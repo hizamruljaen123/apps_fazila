{
 "cells": [
  {
   "cell_type": "code",
   "execution_count": 32,
   "metadata": {},
   "outputs": [
    {
     "name": "stderr",
     "output_type": "stream",
     "text": [
      "C:\\Users\\User\\AppData\\Local\\Temp\\ipykernel_6448\\990310604.py:30: RuntimeWarning:\n",
      "\n",
      "overflow encountered in exp\n",
      "\n",
      "c:\\Users\\User\\anaconda3\\Lib\\site-packages\\scipy\\optimize\\_minpack_py.py:494: RuntimeWarning:\n",
      "\n",
      "Number of calls to function has reached maxfev = 1000.\n",
      "\n"
     ]
    },
    {
     "name": "stdout",
     "output_type": "stream",
     "text": [
      "Akurasi Model: 9.52%\n",
      "Hasil data uji disimpan ke dalam file hasil_data_uji.xlsx\n",
      "\n",
      "Hasil Prediksi vs Aslinya:\n"
     ]
    },
    {
     "data": {
      "text/html": [
       "<div>\n",
       "<style scoped>\n",
       "    .dataframe tbody tr th:only-of-type {\n",
       "        vertical-align: middle;\n",
       "    }\n",
       "\n",
       "    .dataframe tbody tr th {\n",
       "        vertical-align: top;\n",
       "    }\n",
       "\n",
       "    .dataframe thead th {\n",
       "        text-align: right;\n",
       "    }\n",
       "</style>\n",
       "<table border=\"1\" class=\"dataframe\">\n",
       "  <thead>\n",
       "    <tr style=\"text-align: right;\">\n",
       "      <th></th>\n",
       "      <th>Asli</th>\n",
       "      <th>Prediksi</th>\n",
       "    </tr>\n",
       "  </thead>\n",
       "  <tbody>\n",
       "    <tr>\n",
       "      <th>0</th>\n",
       "      <td>Aman</td>\n",
       "      <td>Awas</td>\n",
       "    </tr>\n",
       "    <tr>\n",
       "      <th>1</th>\n",
       "      <td>Waspada</td>\n",
       "      <td>Waspada</td>\n",
       "    </tr>\n",
       "    <tr>\n",
       "      <th>2</th>\n",
       "      <td>Waspada</td>\n",
       "      <td>Waspada</td>\n",
       "    </tr>\n",
       "    <tr>\n",
       "      <th>3</th>\n",
       "      <td>Aman</td>\n",
       "      <td>Siaga</td>\n",
       "    </tr>\n",
       "    <tr>\n",
       "      <th>4</th>\n",
       "      <td>Aman</td>\n",
       "      <td>Siaga</td>\n",
       "    </tr>\n",
       "    <tr>\n",
       "      <th>5</th>\n",
       "      <td>Aman</td>\n",
       "      <td>Siaga</td>\n",
       "    </tr>\n",
       "    <tr>\n",
       "      <th>6</th>\n",
       "      <td>Waspada</td>\n",
       "      <td>Siaga</td>\n",
       "    </tr>\n",
       "    <tr>\n",
       "      <th>7</th>\n",
       "      <td>Waspada</td>\n",
       "      <td>Siaga</td>\n",
       "    </tr>\n",
       "    <tr>\n",
       "      <th>8</th>\n",
       "      <td>Waspada</td>\n",
       "      <td>Siaga</td>\n",
       "    </tr>\n",
       "    <tr>\n",
       "      <th>9</th>\n",
       "      <td>Aman</td>\n",
       "      <td>Siaga</td>\n",
       "    </tr>\n",
       "    <tr>\n",
       "      <th>10</th>\n",
       "      <td>Aman</td>\n",
       "      <td>Siaga</td>\n",
       "    </tr>\n",
       "    <tr>\n",
       "      <th>11</th>\n",
       "      <td>Waspada</td>\n",
       "      <td>Siaga</td>\n",
       "    </tr>\n",
       "    <tr>\n",
       "      <th>12</th>\n",
       "      <td>Aman</td>\n",
       "      <td>Siaga</td>\n",
       "    </tr>\n",
       "    <tr>\n",
       "      <th>13</th>\n",
       "      <td>Waspada</td>\n",
       "      <td>Siaga</td>\n",
       "    </tr>\n",
       "    <tr>\n",
       "      <th>14</th>\n",
       "      <td>Waspada</td>\n",
       "      <td>Waspada</td>\n",
       "    </tr>\n",
       "    <tr>\n",
       "      <th>15</th>\n",
       "      <td>Aman</td>\n",
       "      <td>Siaga</td>\n",
       "    </tr>\n",
       "    <tr>\n",
       "      <th>16</th>\n",
       "      <td>Aman</td>\n",
       "      <td>Aman</td>\n",
       "    </tr>\n",
       "    <tr>\n",
       "      <th>17</th>\n",
       "      <td>Aman</td>\n",
       "      <td>Siaga</td>\n",
       "    </tr>\n",
       "    <tr>\n",
       "      <th>18</th>\n",
       "      <td>Waspada</td>\n",
       "      <td>Awas</td>\n",
       "    </tr>\n",
       "    <tr>\n",
       "      <th>19</th>\n",
       "      <td>Waspada</td>\n",
       "      <td>Siaga</td>\n",
       "    </tr>\n",
       "  </tbody>\n",
       "</table>\n",
       "</div>"
      ],
      "text/plain": [
       "       Asli Prediksi\n",
       "0      Aman     Awas\n",
       "1   Waspada  Waspada\n",
       "2   Waspada  Waspada\n",
       "3      Aman    Siaga\n",
       "4      Aman    Siaga\n",
       "5      Aman    Siaga\n",
       "6   Waspada    Siaga\n",
       "7   Waspada    Siaga\n",
       "8   Waspada    Siaga\n",
       "9      Aman    Siaga\n",
       "10     Aman    Siaga\n",
       "11  Waspada    Siaga\n",
       "12     Aman    Siaga\n",
       "13  Waspada    Siaga\n",
       "14  Waspada  Waspada\n",
       "15     Aman    Siaga\n",
       "16     Aman     Aman\n",
       "17     Aman    Siaga\n",
       "18  Waspada     Awas\n",
       "19  Waspada    Siaga"
      ]
     },
     "execution_count": 32,
     "metadata": {},
     "output_type": "execute_result"
    }
   ],
   "source": [
    "import numpy as np\n",
    "import pandas as pd\n",
    "from sklearn.preprocessing import StandardScaler, LabelEncoder\n",
    "from sklearn.model_selection import train_test_split\n",
    "from scipy.optimize import leastsq\n",
    "\n",
    "# Load the data\n",
    "data = pd.read_excel('data.xlsx')\n",
    "\n",
    "# Preprocessing\n",
    "label_encoder = LabelEncoder()\n",
    "data['Potensi_Banjir'] = label_encoder.fit_transform(data['Potensi_Banjir'])  # Mengubah kategori menjadi numerik\n",
    "\n",
    "# Fitur (Curah_Hujan, Suhu, Tinggi_Muka_Air) dan Target (Potensi_Banjir)\n",
    "X = data[['Curah_Hujan', 'Suhu', 'Tinggi_Muka_Air']].values\n",
    "y = data['Potensi_Banjir'].values\n",
    "\n",
    "# Normalisasi Fitur\n",
    "scaler = StandardScaler()\n",
    "X_scaled = scaler.fit_transform(X)\n",
    "\n",
    "# Scaling Target\n",
    "y = y / np.max(y)  # Scaling target to be between 0 and 1 for sigmoid activation\n",
    "\n",
    "# Split the data into training and test sets\n",
    "X_train, X_test, y_train, y_test = train_test_split(X_scaled, y, test_size=0.2, random_state=42)\n",
    "\n",
    "# Fungsi aktivasi sigmoid\n",
    "def sigmoid(z):\n",
    "    return 1 / (1 + np.exp(-z))\n",
    "\n",
    "# Model Neural Network sederhana dengan 1 lapisan tersembunyi\n",
    "class NeuralNetwork:\n",
    "    def __init__(self, input_size, hidden_size, output_size):\n",
    "        # Inisialisasi bobot secara acak dengan lebih kecil agar tidak terlalu besar\n",
    "        self.W1 = np.random.randn(input_size, hidden_size) * 0.01\n",
    "        self.W2 = np.random.randn(hidden_size, output_size) * 0.01\n",
    "\n",
    "    def forward(self, X):\n",
    "        # Feedforward\n",
    "        self.Z1 = np.dot(X, self.W1)\n",
    "        self.A1 = sigmoid(self.Z1)\n",
    "        self.Z2 = np.dot(self.A1, self.W2)\n",
    "        self.A2 = sigmoid(self.Z2)\n",
    "        return self.A2\n",
    "\n",
    "    def cost_function(self, X, y):\n",
    "        # Fungsi biaya (mean squared error)\n",
    "        y_hat = self.forward(X)\n",
    "        return 0.5 * np.sum((y_hat - y) ** 2)\n",
    "\n",
    "    def cost_function_prime(self, X, y):\n",
    "        # Backpropagation untuk menghitung gradien\n",
    "        y_hat = self.forward(X)\n",
    "        \n",
    "        delta2 = np.multiply(-(y - y_hat), y_hat * (1 - y_hat))\n",
    "        dJdW2 = np.dot(self.A1.T, delta2)\n",
    "        \n",
    "        delta1 = np.dot(delta2, self.W2.T) * (self.A1 * (1 - self.A1))\n",
    "        dJdW1 = np.dot(X.T, delta1)\n",
    "        \n",
    "        return dJdW1, dJdW2\n",
    "\n",
    "    def flatten_weights(self):\n",
    "        # Memisahkan bobot menjadi satu vektor\n",
    "        return np.concatenate((self.W1.ravel(), self.W2.ravel()))\n",
    "\n",
    "    def unflatten_weights(self, flat_weights):\n",
    "        # Mengubah vektor kembali menjadi bentuk matriks bobot\n",
    "        hidden_size = self.W1.shape[1]\n",
    "        self.W1 = flat_weights[:X_train.shape[1] * hidden_size].reshape(X_train.shape[1], hidden_size)\n",
    "        self.W2 = flat_weights[X_train.shape[1] * hidden_size:].reshape(hidden_size, 1)\n",
    "\n",
    "    def train(self, X, y, n_iter=500):\n",
    "        # Optimasi menggunakan Levenberg-Marquardt (leastsq dari SciPy)\n",
    "        def error_function(flat_weights, X, y):\n",
    "            self.unflatten_weights(flat_weights)\n",
    "            y_hat = self.forward(X)\n",
    "            return (y_hat - y).ravel()\n",
    "\n",
    "        initial_weights = self.flatten_weights()\n",
    "        optimal_weights, success = leastsq(error_function, initial_weights, args=(X, y), maxfev=n_iter)\n",
    "        self.unflatten_weights(optimal_weights)\n",
    "\n",
    "# Inisialisasi jaringan syaraf tiruan dengan 10 neuron di hidden layer\n",
    "nn = NeuralNetwork(input_size=X_train.shape[1], hidden_size=10, output_size=1)\n",
    "\n",
    "# Latih model menggunakan data latih, tingkatkan jumlah iterasi\n",
    "nn.train(X_train, y_train.reshape(-1, 1), n_iter=1000)\n",
    "\n",
    "# Prediksi pada data uji\n",
    "y_pred = nn.forward(X_test)\n",
    "y_pred_class = np.round(y_pred * np.max(data['Potensi_Banjir'])).astype(int).ravel()  # Mengembalikan skala ke bentuk asli\n",
    "\n",
    "# Mapping manual angka ke label\n",
    "label_mapping = {0: 'Aman', 1: 'Waspada', 2: 'Siaga', 3: 'Awas'}\n",
    "y_pred_labels = [label_mapping[val] for val in y_pred_class]\n",
    "y_test_labels = [label_mapping[val] for val in np.round(y_test).astype(int)]\n",
    "\n",
    "# Evaluasi performa\n",
    "accuracy = np.mean(np.array(y_pred_labels) == np.array(y_test_labels))\n",
    "print(f'Akurasi Model: {accuracy * 100:.2f}%')\n",
    "\n",
    "# Tampilkan hasil prediksi dan nilai asli\n",
    "comparison = pd.DataFrame({'Asli': y_test_labels, 'Prediksi': y_pred_labels})\n",
    "\n",
    "# Gabungkan hasil prediksi dengan data uji\n",
    "data_uji = pd.DataFrame(X_test, columns=['Curah_Hujan', 'Suhu', 'Tinggi_Muka_Air'])\n",
    "data_uji['Asli'] = y_test_labels\n",
    "data_uji['Prediksi'] = y_pred_labels\n",
    "\n",
    "# Simpan hasil prediksi ke dalam file Excel\n",
    "file_path = \"hasil_data_uji.xlsx\"\n",
    "data_uji.to_excel(file_path, index=False)\n",
    "\n",
    "print(f'Hasil data uji disimpan ke dalam file {file_path}')\n",
    "print(\"\\nHasil Prediksi vs Aslinya:\")\n",
    "\n",
    "comparison.head(20)\n",
    "\n"
   ]
  },
  {
   "cell_type": "code",
   "execution_count": 33,
   "metadata": {},
   "outputs": [
    {
     "data": {
      "application/vnd.plotly.v1+json": {
       "config": {
        "plotlyServerURL": "https://plot.ly"
       },
       "data": [
        {
         "hole": 0.4,
         "labels": [
          "Cocok",
          "Tidak Cocok"
         ],
         "type": "pie",
         "values": [
          8,
          76
         ]
        }
       ],
       "layout": {
        "template": {
         "data": {
          "bar": [
           {
            "error_x": {
             "color": "#2a3f5f"
            },
            "error_y": {
             "color": "#2a3f5f"
            },
            "marker": {
             "line": {
              "color": "#E5ECF6",
              "width": 0.5
             },
             "pattern": {
              "fillmode": "overlay",
              "size": 10,
              "solidity": 0.2
             }
            },
            "type": "bar"
           }
          ],
          "barpolar": [
           {
            "marker": {
             "line": {
              "color": "#E5ECF6",
              "width": 0.5
             },
             "pattern": {
              "fillmode": "overlay",
              "size": 10,
              "solidity": 0.2
             }
            },
            "type": "barpolar"
           }
          ],
          "carpet": [
           {
            "aaxis": {
             "endlinecolor": "#2a3f5f",
             "gridcolor": "white",
             "linecolor": "white",
             "minorgridcolor": "white",
             "startlinecolor": "#2a3f5f"
            },
            "baxis": {
             "endlinecolor": "#2a3f5f",
             "gridcolor": "white",
             "linecolor": "white",
             "minorgridcolor": "white",
             "startlinecolor": "#2a3f5f"
            },
            "type": "carpet"
           }
          ],
          "choropleth": [
           {
            "colorbar": {
             "outlinewidth": 0,
             "ticks": ""
            },
            "type": "choropleth"
           }
          ],
          "contour": [
           {
            "colorbar": {
             "outlinewidth": 0,
             "ticks": ""
            },
            "colorscale": [
             [
              0,
              "#0d0887"
             ],
             [
              0.1111111111111111,
              "#46039f"
             ],
             [
              0.2222222222222222,
              "#7201a8"
             ],
             [
              0.3333333333333333,
              "#9c179e"
             ],
             [
              0.4444444444444444,
              "#bd3786"
             ],
             [
              0.5555555555555556,
              "#d8576b"
             ],
             [
              0.6666666666666666,
              "#ed7953"
             ],
             [
              0.7777777777777778,
              "#fb9f3a"
             ],
             [
              0.8888888888888888,
              "#fdca26"
             ],
             [
              1,
              "#f0f921"
             ]
            ],
            "type": "contour"
           }
          ],
          "contourcarpet": [
           {
            "colorbar": {
             "outlinewidth": 0,
             "ticks": ""
            },
            "type": "contourcarpet"
           }
          ],
          "heatmap": [
           {
            "colorbar": {
             "outlinewidth": 0,
             "ticks": ""
            },
            "colorscale": [
             [
              0,
              "#0d0887"
             ],
             [
              0.1111111111111111,
              "#46039f"
             ],
             [
              0.2222222222222222,
              "#7201a8"
             ],
             [
              0.3333333333333333,
              "#9c179e"
             ],
             [
              0.4444444444444444,
              "#bd3786"
             ],
             [
              0.5555555555555556,
              "#d8576b"
             ],
             [
              0.6666666666666666,
              "#ed7953"
             ],
             [
              0.7777777777777778,
              "#fb9f3a"
             ],
             [
              0.8888888888888888,
              "#fdca26"
             ],
             [
              1,
              "#f0f921"
             ]
            ],
            "type": "heatmap"
           }
          ],
          "heatmapgl": [
           {
            "colorbar": {
             "outlinewidth": 0,
             "ticks": ""
            },
            "colorscale": [
             [
              0,
              "#0d0887"
             ],
             [
              0.1111111111111111,
              "#46039f"
             ],
             [
              0.2222222222222222,
              "#7201a8"
             ],
             [
              0.3333333333333333,
              "#9c179e"
             ],
             [
              0.4444444444444444,
              "#bd3786"
             ],
             [
              0.5555555555555556,
              "#d8576b"
             ],
             [
              0.6666666666666666,
              "#ed7953"
             ],
             [
              0.7777777777777778,
              "#fb9f3a"
             ],
             [
              0.8888888888888888,
              "#fdca26"
             ],
             [
              1,
              "#f0f921"
             ]
            ],
            "type": "heatmapgl"
           }
          ],
          "histogram": [
           {
            "marker": {
             "pattern": {
              "fillmode": "overlay",
              "size": 10,
              "solidity": 0.2
             }
            },
            "type": "histogram"
           }
          ],
          "histogram2d": [
           {
            "colorbar": {
             "outlinewidth": 0,
             "ticks": ""
            },
            "colorscale": [
             [
              0,
              "#0d0887"
             ],
             [
              0.1111111111111111,
              "#46039f"
             ],
             [
              0.2222222222222222,
              "#7201a8"
             ],
             [
              0.3333333333333333,
              "#9c179e"
             ],
             [
              0.4444444444444444,
              "#bd3786"
             ],
             [
              0.5555555555555556,
              "#d8576b"
             ],
             [
              0.6666666666666666,
              "#ed7953"
             ],
             [
              0.7777777777777778,
              "#fb9f3a"
             ],
             [
              0.8888888888888888,
              "#fdca26"
             ],
             [
              1,
              "#f0f921"
             ]
            ],
            "type": "histogram2d"
           }
          ],
          "histogram2dcontour": [
           {
            "colorbar": {
             "outlinewidth": 0,
             "ticks": ""
            },
            "colorscale": [
             [
              0,
              "#0d0887"
             ],
             [
              0.1111111111111111,
              "#46039f"
             ],
             [
              0.2222222222222222,
              "#7201a8"
             ],
             [
              0.3333333333333333,
              "#9c179e"
             ],
             [
              0.4444444444444444,
              "#bd3786"
             ],
             [
              0.5555555555555556,
              "#d8576b"
             ],
             [
              0.6666666666666666,
              "#ed7953"
             ],
             [
              0.7777777777777778,
              "#fb9f3a"
             ],
             [
              0.8888888888888888,
              "#fdca26"
             ],
             [
              1,
              "#f0f921"
             ]
            ],
            "type": "histogram2dcontour"
           }
          ],
          "mesh3d": [
           {
            "colorbar": {
             "outlinewidth": 0,
             "ticks": ""
            },
            "type": "mesh3d"
           }
          ],
          "parcoords": [
           {
            "line": {
             "colorbar": {
              "outlinewidth": 0,
              "ticks": ""
             }
            },
            "type": "parcoords"
           }
          ],
          "pie": [
           {
            "automargin": true,
            "type": "pie"
           }
          ],
          "scatter": [
           {
            "fillpattern": {
             "fillmode": "overlay",
             "size": 10,
             "solidity": 0.2
            },
            "type": "scatter"
           }
          ],
          "scatter3d": [
           {
            "line": {
             "colorbar": {
              "outlinewidth": 0,
              "ticks": ""
             }
            },
            "marker": {
             "colorbar": {
              "outlinewidth": 0,
              "ticks": ""
             }
            },
            "type": "scatter3d"
           }
          ],
          "scattercarpet": [
           {
            "marker": {
             "colorbar": {
              "outlinewidth": 0,
              "ticks": ""
             }
            },
            "type": "scattercarpet"
           }
          ],
          "scattergeo": [
           {
            "marker": {
             "colorbar": {
              "outlinewidth": 0,
              "ticks": ""
             }
            },
            "type": "scattergeo"
           }
          ],
          "scattergl": [
           {
            "marker": {
             "colorbar": {
              "outlinewidth": 0,
              "ticks": ""
             }
            },
            "type": "scattergl"
           }
          ],
          "scattermapbox": [
           {
            "marker": {
             "colorbar": {
              "outlinewidth": 0,
              "ticks": ""
             }
            },
            "type": "scattermapbox"
           }
          ],
          "scatterpolar": [
           {
            "marker": {
             "colorbar": {
              "outlinewidth": 0,
              "ticks": ""
             }
            },
            "type": "scatterpolar"
           }
          ],
          "scatterpolargl": [
           {
            "marker": {
             "colorbar": {
              "outlinewidth": 0,
              "ticks": ""
             }
            },
            "type": "scatterpolargl"
           }
          ],
          "scatterternary": [
           {
            "marker": {
             "colorbar": {
              "outlinewidth": 0,
              "ticks": ""
             }
            },
            "type": "scatterternary"
           }
          ],
          "surface": [
           {
            "colorbar": {
             "outlinewidth": 0,
             "ticks": ""
            },
            "colorscale": [
             [
              0,
              "#0d0887"
             ],
             [
              0.1111111111111111,
              "#46039f"
             ],
             [
              0.2222222222222222,
              "#7201a8"
             ],
             [
              0.3333333333333333,
              "#9c179e"
             ],
             [
              0.4444444444444444,
              "#bd3786"
             ],
             [
              0.5555555555555556,
              "#d8576b"
             ],
             [
              0.6666666666666666,
              "#ed7953"
             ],
             [
              0.7777777777777778,
              "#fb9f3a"
             ],
             [
              0.8888888888888888,
              "#fdca26"
             ],
             [
              1,
              "#f0f921"
             ]
            ],
            "type": "surface"
           }
          ],
          "table": [
           {
            "cells": {
             "fill": {
              "color": "#EBF0F8"
             },
             "line": {
              "color": "white"
             }
            },
            "header": {
             "fill": {
              "color": "#C8D4E3"
             },
             "line": {
              "color": "white"
             }
            },
            "type": "table"
           }
          ]
         },
         "layout": {
          "annotationdefaults": {
           "arrowcolor": "#2a3f5f",
           "arrowhead": 0,
           "arrowwidth": 1
          },
          "autotypenumbers": "strict",
          "coloraxis": {
           "colorbar": {
            "outlinewidth": 0,
            "ticks": ""
           }
          },
          "colorscale": {
           "diverging": [
            [
             0,
             "#8e0152"
            ],
            [
             0.1,
             "#c51b7d"
            ],
            [
             0.2,
             "#de77ae"
            ],
            [
             0.3,
             "#f1b6da"
            ],
            [
             0.4,
             "#fde0ef"
            ],
            [
             0.5,
             "#f7f7f7"
            ],
            [
             0.6,
             "#e6f5d0"
            ],
            [
             0.7,
             "#b8e186"
            ],
            [
             0.8,
             "#7fbc41"
            ],
            [
             0.9,
             "#4d9221"
            ],
            [
             1,
             "#276419"
            ]
           ],
           "sequential": [
            [
             0,
             "#0d0887"
            ],
            [
             0.1111111111111111,
             "#46039f"
            ],
            [
             0.2222222222222222,
             "#7201a8"
            ],
            [
             0.3333333333333333,
             "#9c179e"
            ],
            [
             0.4444444444444444,
             "#bd3786"
            ],
            [
             0.5555555555555556,
             "#d8576b"
            ],
            [
             0.6666666666666666,
             "#ed7953"
            ],
            [
             0.7777777777777778,
             "#fb9f3a"
            ],
            [
             0.8888888888888888,
             "#fdca26"
            ],
            [
             1,
             "#f0f921"
            ]
           ],
           "sequentialminus": [
            [
             0,
             "#0d0887"
            ],
            [
             0.1111111111111111,
             "#46039f"
            ],
            [
             0.2222222222222222,
             "#7201a8"
            ],
            [
             0.3333333333333333,
             "#9c179e"
            ],
            [
             0.4444444444444444,
             "#bd3786"
            ],
            [
             0.5555555555555556,
             "#d8576b"
            ],
            [
             0.6666666666666666,
             "#ed7953"
            ],
            [
             0.7777777777777778,
             "#fb9f3a"
            ],
            [
             0.8888888888888888,
             "#fdca26"
            ],
            [
             1,
             "#f0f921"
            ]
           ]
          },
          "colorway": [
           "#636efa",
           "#EF553B",
           "#00cc96",
           "#ab63fa",
           "#FFA15A",
           "#19d3f3",
           "#FF6692",
           "#B6E880",
           "#FF97FF",
           "#FECB52"
          ],
          "font": {
           "color": "#2a3f5f"
          },
          "geo": {
           "bgcolor": "white",
           "lakecolor": "white",
           "landcolor": "#E5ECF6",
           "showlakes": true,
           "showland": true,
           "subunitcolor": "white"
          },
          "hoverlabel": {
           "align": "left"
          },
          "hovermode": "closest",
          "mapbox": {
           "style": "light"
          },
          "paper_bgcolor": "white",
          "plot_bgcolor": "#E5ECF6",
          "polar": {
           "angularaxis": {
            "gridcolor": "white",
            "linecolor": "white",
            "ticks": ""
           },
           "bgcolor": "#E5ECF6",
           "radialaxis": {
            "gridcolor": "white",
            "linecolor": "white",
            "ticks": ""
           }
          },
          "scene": {
           "xaxis": {
            "backgroundcolor": "#E5ECF6",
            "gridcolor": "white",
            "gridwidth": 2,
            "linecolor": "white",
            "showbackground": true,
            "ticks": "",
            "zerolinecolor": "white"
           },
           "yaxis": {
            "backgroundcolor": "#E5ECF6",
            "gridcolor": "white",
            "gridwidth": 2,
            "linecolor": "white",
            "showbackground": true,
            "ticks": "",
            "zerolinecolor": "white"
           },
           "zaxis": {
            "backgroundcolor": "#E5ECF6",
            "gridcolor": "white",
            "gridwidth": 2,
            "linecolor": "white",
            "showbackground": true,
            "ticks": "",
            "zerolinecolor": "white"
           }
          },
          "shapedefaults": {
           "line": {
            "color": "#2a3f5f"
           }
          },
          "ternary": {
           "aaxis": {
            "gridcolor": "white",
            "linecolor": "white",
            "ticks": ""
           },
           "baxis": {
            "gridcolor": "white",
            "linecolor": "white",
            "ticks": ""
           },
           "bgcolor": "#E5ECF6",
           "caxis": {
            "gridcolor": "white",
            "linecolor": "white",
            "ticks": ""
           }
          },
          "title": {
           "x": 0.05
          },
          "xaxis": {
           "automargin": true,
           "gridcolor": "white",
           "linecolor": "white",
           "ticks": "",
           "title": {
            "standoff": 15
           },
           "zerolinecolor": "white",
           "zerolinewidth": 2
          },
          "yaxis": {
           "automargin": true,
           "gridcolor": "white",
           "linecolor": "white",
           "ticks": "",
           "title": {
            "standoff": 15
           },
           "zerolinecolor": "white",
           "zerolinewidth": 2
          }
         }
        },
        "title": {
         "text": "Persentase Prediksi yang Cocok dan Tidak Cocok"
        }
       }
      }
     },
     "metadata": {},
     "output_type": "display_data"
    }
   ],
   "source": [
    "import plotly.graph_objs as go\n",
    "import plotly.express as px\n",
    "\n",
    "# Hitung berapa yang cocok dan tidak cocok\n",
    "comparison['Cocok'] = comparison['Asli'] == comparison['Prediksi']\n",
    "cocok_count = comparison['Cocok'].sum()\n",
    "tidak_cocok_count = len(comparison) - cocok_count\n",
    "\n",
    "# Data untuk visualisasi\n",
    "labels = ['Cocok', 'Tidak Cocok']\n",
    "values = [cocok_count, tidak_cocok_count]\n",
    "\n",
    "\n",
    "# Grafik pie - Persentase prediksi yang cocok dan tidak cocok\n",
    "pie_data = go.Figure(go.Pie(labels=labels, values=values, hole=0.4))\n",
    "pie_data.update_layout(title='Persentase Prediksi yang Cocok dan Tidak Cocok')\n",
    "\n",
    "# Tampilkan grafik\n",
    "pie_data.show()\n"
   ]
  },
  {
   "cell_type": "code",
   "execution_count": 34,
   "metadata": {},
   "outputs": [
    {
     "name": "stdout",
     "output_type": "stream",
     "text": [
      "  Kategori  Jumlah  Persentase (%)\n",
      "0     Aman       3            3.57\n",
      "1     Awas       2            2.38\n",
      "2    Siaga      60           71.43\n",
      "3  Waspada      19           22.62\n"
     ]
    },
    {
     "data": {
      "application/vnd.plotly.v1+json": {
       "config": {
        "plotlyServerURL": "https://plot.ly"
       },
       "data": [
        {
         "marker": {
          "color": [
           "#636EFA",
           "#EF553B",
           "#00CC96",
           "#AB63FA"
          ]
         },
         "text": [
          3.57,
          2.38,
          71.43,
          22.62
         ],
         "textposition": "auto",
         "type": "bar",
         "x": [
          "Aman",
          "Awas",
          "Siaga",
          "Waspada"
         ],
         "y": [
          3,
          2,
          60,
          19
         ]
        }
       ],
       "layout": {
        "template": {
         "data": {
          "bar": [
           {
            "error_x": {
             "color": "#2a3f5f"
            },
            "error_y": {
             "color": "#2a3f5f"
            },
            "marker": {
             "line": {
              "color": "#E5ECF6",
              "width": 0.5
             },
             "pattern": {
              "fillmode": "overlay",
              "size": 10,
              "solidity": 0.2
             }
            },
            "type": "bar"
           }
          ],
          "barpolar": [
           {
            "marker": {
             "line": {
              "color": "#E5ECF6",
              "width": 0.5
             },
             "pattern": {
              "fillmode": "overlay",
              "size": 10,
              "solidity": 0.2
             }
            },
            "type": "barpolar"
           }
          ],
          "carpet": [
           {
            "aaxis": {
             "endlinecolor": "#2a3f5f",
             "gridcolor": "white",
             "linecolor": "white",
             "minorgridcolor": "white",
             "startlinecolor": "#2a3f5f"
            },
            "baxis": {
             "endlinecolor": "#2a3f5f",
             "gridcolor": "white",
             "linecolor": "white",
             "minorgridcolor": "white",
             "startlinecolor": "#2a3f5f"
            },
            "type": "carpet"
           }
          ],
          "choropleth": [
           {
            "colorbar": {
             "outlinewidth": 0,
             "ticks": ""
            },
            "type": "choropleth"
           }
          ],
          "contour": [
           {
            "colorbar": {
             "outlinewidth": 0,
             "ticks": ""
            },
            "colorscale": [
             [
              0,
              "#0d0887"
             ],
             [
              0.1111111111111111,
              "#46039f"
             ],
             [
              0.2222222222222222,
              "#7201a8"
             ],
             [
              0.3333333333333333,
              "#9c179e"
             ],
             [
              0.4444444444444444,
              "#bd3786"
             ],
             [
              0.5555555555555556,
              "#d8576b"
             ],
             [
              0.6666666666666666,
              "#ed7953"
             ],
             [
              0.7777777777777778,
              "#fb9f3a"
             ],
             [
              0.8888888888888888,
              "#fdca26"
             ],
             [
              1,
              "#f0f921"
             ]
            ],
            "type": "contour"
           }
          ],
          "contourcarpet": [
           {
            "colorbar": {
             "outlinewidth": 0,
             "ticks": ""
            },
            "type": "contourcarpet"
           }
          ],
          "heatmap": [
           {
            "colorbar": {
             "outlinewidth": 0,
             "ticks": ""
            },
            "colorscale": [
             [
              0,
              "#0d0887"
             ],
             [
              0.1111111111111111,
              "#46039f"
             ],
             [
              0.2222222222222222,
              "#7201a8"
             ],
             [
              0.3333333333333333,
              "#9c179e"
             ],
             [
              0.4444444444444444,
              "#bd3786"
             ],
             [
              0.5555555555555556,
              "#d8576b"
             ],
             [
              0.6666666666666666,
              "#ed7953"
             ],
             [
              0.7777777777777778,
              "#fb9f3a"
             ],
             [
              0.8888888888888888,
              "#fdca26"
             ],
             [
              1,
              "#f0f921"
             ]
            ],
            "type": "heatmap"
           }
          ],
          "heatmapgl": [
           {
            "colorbar": {
             "outlinewidth": 0,
             "ticks": ""
            },
            "colorscale": [
             [
              0,
              "#0d0887"
             ],
             [
              0.1111111111111111,
              "#46039f"
             ],
             [
              0.2222222222222222,
              "#7201a8"
             ],
             [
              0.3333333333333333,
              "#9c179e"
             ],
             [
              0.4444444444444444,
              "#bd3786"
             ],
             [
              0.5555555555555556,
              "#d8576b"
             ],
             [
              0.6666666666666666,
              "#ed7953"
             ],
             [
              0.7777777777777778,
              "#fb9f3a"
             ],
             [
              0.8888888888888888,
              "#fdca26"
             ],
             [
              1,
              "#f0f921"
             ]
            ],
            "type": "heatmapgl"
           }
          ],
          "histogram": [
           {
            "marker": {
             "pattern": {
              "fillmode": "overlay",
              "size": 10,
              "solidity": 0.2
             }
            },
            "type": "histogram"
           }
          ],
          "histogram2d": [
           {
            "colorbar": {
             "outlinewidth": 0,
             "ticks": ""
            },
            "colorscale": [
             [
              0,
              "#0d0887"
             ],
             [
              0.1111111111111111,
              "#46039f"
             ],
             [
              0.2222222222222222,
              "#7201a8"
             ],
             [
              0.3333333333333333,
              "#9c179e"
             ],
             [
              0.4444444444444444,
              "#bd3786"
             ],
             [
              0.5555555555555556,
              "#d8576b"
             ],
             [
              0.6666666666666666,
              "#ed7953"
             ],
             [
              0.7777777777777778,
              "#fb9f3a"
             ],
             [
              0.8888888888888888,
              "#fdca26"
             ],
             [
              1,
              "#f0f921"
             ]
            ],
            "type": "histogram2d"
           }
          ],
          "histogram2dcontour": [
           {
            "colorbar": {
             "outlinewidth": 0,
             "ticks": ""
            },
            "colorscale": [
             [
              0,
              "#0d0887"
             ],
             [
              0.1111111111111111,
              "#46039f"
             ],
             [
              0.2222222222222222,
              "#7201a8"
             ],
             [
              0.3333333333333333,
              "#9c179e"
             ],
             [
              0.4444444444444444,
              "#bd3786"
             ],
             [
              0.5555555555555556,
              "#d8576b"
             ],
             [
              0.6666666666666666,
              "#ed7953"
             ],
             [
              0.7777777777777778,
              "#fb9f3a"
             ],
             [
              0.8888888888888888,
              "#fdca26"
             ],
             [
              1,
              "#f0f921"
             ]
            ],
            "type": "histogram2dcontour"
           }
          ],
          "mesh3d": [
           {
            "colorbar": {
             "outlinewidth": 0,
             "ticks": ""
            },
            "type": "mesh3d"
           }
          ],
          "parcoords": [
           {
            "line": {
             "colorbar": {
              "outlinewidth": 0,
              "ticks": ""
             }
            },
            "type": "parcoords"
           }
          ],
          "pie": [
           {
            "automargin": true,
            "type": "pie"
           }
          ],
          "scatter": [
           {
            "fillpattern": {
             "fillmode": "overlay",
             "size": 10,
             "solidity": 0.2
            },
            "type": "scatter"
           }
          ],
          "scatter3d": [
           {
            "line": {
             "colorbar": {
              "outlinewidth": 0,
              "ticks": ""
             }
            },
            "marker": {
             "colorbar": {
              "outlinewidth": 0,
              "ticks": ""
             }
            },
            "type": "scatter3d"
           }
          ],
          "scattercarpet": [
           {
            "marker": {
             "colorbar": {
              "outlinewidth": 0,
              "ticks": ""
             }
            },
            "type": "scattercarpet"
           }
          ],
          "scattergeo": [
           {
            "marker": {
             "colorbar": {
              "outlinewidth": 0,
              "ticks": ""
             }
            },
            "type": "scattergeo"
           }
          ],
          "scattergl": [
           {
            "marker": {
             "colorbar": {
              "outlinewidth": 0,
              "ticks": ""
             }
            },
            "type": "scattergl"
           }
          ],
          "scattermapbox": [
           {
            "marker": {
             "colorbar": {
              "outlinewidth": 0,
              "ticks": ""
             }
            },
            "type": "scattermapbox"
           }
          ],
          "scatterpolar": [
           {
            "marker": {
             "colorbar": {
              "outlinewidth": 0,
              "ticks": ""
             }
            },
            "type": "scatterpolar"
           }
          ],
          "scatterpolargl": [
           {
            "marker": {
             "colorbar": {
              "outlinewidth": 0,
              "ticks": ""
             }
            },
            "type": "scatterpolargl"
           }
          ],
          "scatterternary": [
           {
            "marker": {
             "colorbar": {
              "outlinewidth": 0,
              "ticks": ""
             }
            },
            "type": "scatterternary"
           }
          ],
          "surface": [
           {
            "colorbar": {
             "outlinewidth": 0,
             "ticks": ""
            },
            "colorscale": [
             [
              0,
              "#0d0887"
             ],
             [
              0.1111111111111111,
              "#46039f"
             ],
             [
              0.2222222222222222,
              "#7201a8"
             ],
             [
              0.3333333333333333,
              "#9c179e"
             ],
             [
              0.4444444444444444,
              "#bd3786"
             ],
             [
              0.5555555555555556,
              "#d8576b"
             ],
             [
              0.6666666666666666,
              "#ed7953"
             ],
             [
              0.7777777777777778,
              "#fb9f3a"
             ],
             [
              0.8888888888888888,
              "#fdca26"
             ],
             [
              1,
              "#f0f921"
             ]
            ],
            "type": "surface"
           }
          ],
          "table": [
           {
            "cells": {
             "fill": {
              "color": "#EBF0F8"
             },
             "line": {
              "color": "white"
             }
            },
            "header": {
             "fill": {
              "color": "#C8D4E3"
             },
             "line": {
              "color": "white"
             }
            },
            "type": "table"
           }
          ]
         },
         "layout": {
          "annotationdefaults": {
           "arrowcolor": "#2a3f5f",
           "arrowhead": 0,
           "arrowwidth": 1
          },
          "autotypenumbers": "strict",
          "coloraxis": {
           "colorbar": {
            "outlinewidth": 0,
            "ticks": ""
           }
          },
          "colorscale": {
           "diverging": [
            [
             0,
             "#8e0152"
            ],
            [
             0.1,
             "#c51b7d"
            ],
            [
             0.2,
             "#de77ae"
            ],
            [
             0.3,
             "#f1b6da"
            ],
            [
             0.4,
             "#fde0ef"
            ],
            [
             0.5,
             "#f7f7f7"
            ],
            [
             0.6,
             "#e6f5d0"
            ],
            [
             0.7,
             "#b8e186"
            ],
            [
             0.8,
             "#7fbc41"
            ],
            [
             0.9,
             "#4d9221"
            ],
            [
             1,
             "#276419"
            ]
           ],
           "sequential": [
            [
             0,
             "#0d0887"
            ],
            [
             0.1111111111111111,
             "#46039f"
            ],
            [
             0.2222222222222222,
             "#7201a8"
            ],
            [
             0.3333333333333333,
             "#9c179e"
            ],
            [
             0.4444444444444444,
             "#bd3786"
            ],
            [
             0.5555555555555556,
             "#d8576b"
            ],
            [
             0.6666666666666666,
             "#ed7953"
            ],
            [
             0.7777777777777778,
             "#fb9f3a"
            ],
            [
             0.8888888888888888,
             "#fdca26"
            ],
            [
             1,
             "#f0f921"
            ]
           ],
           "sequentialminus": [
            [
             0,
             "#0d0887"
            ],
            [
             0.1111111111111111,
             "#46039f"
            ],
            [
             0.2222222222222222,
             "#7201a8"
            ],
            [
             0.3333333333333333,
             "#9c179e"
            ],
            [
             0.4444444444444444,
             "#bd3786"
            ],
            [
             0.5555555555555556,
             "#d8576b"
            ],
            [
             0.6666666666666666,
             "#ed7953"
            ],
            [
             0.7777777777777778,
             "#fb9f3a"
            ],
            [
             0.8888888888888888,
             "#fdca26"
            ],
            [
             1,
             "#f0f921"
            ]
           ]
          },
          "colorway": [
           "#636efa",
           "#EF553B",
           "#00cc96",
           "#ab63fa",
           "#FFA15A",
           "#19d3f3",
           "#FF6692",
           "#B6E880",
           "#FF97FF",
           "#FECB52"
          ],
          "font": {
           "color": "#2a3f5f"
          },
          "geo": {
           "bgcolor": "white",
           "lakecolor": "white",
           "landcolor": "#E5ECF6",
           "showlakes": true,
           "showland": true,
           "subunitcolor": "white"
          },
          "hoverlabel": {
           "align": "left"
          },
          "hovermode": "closest",
          "mapbox": {
           "style": "light"
          },
          "paper_bgcolor": "white",
          "plot_bgcolor": "#E5ECF6",
          "polar": {
           "angularaxis": {
            "gridcolor": "white",
            "linecolor": "white",
            "ticks": ""
           },
           "bgcolor": "#E5ECF6",
           "radialaxis": {
            "gridcolor": "white",
            "linecolor": "white",
            "ticks": ""
           }
          },
          "scene": {
           "xaxis": {
            "backgroundcolor": "#E5ECF6",
            "gridcolor": "white",
            "gridwidth": 2,
            "linecolor": "white",
            "showbackground": true,
            "ticks": "",
            "zerolinecolor": "white"
           },
           "yaxis": {
            "backgroundcolor": "#E5ECF6",
            "gridcolor": "white",
            "gridwidth": 2,
            "linecolor": "white",
            "showbackground": true,
            "ticks": "",
            "zerolinecolor": "white"
           },
           "zaxis": {
            "backgroundcolor": "#E5ECF6",
            "gridcolor": "white",
            "gridwidth": 2,
            "linecolor": "white",
            "showbackground": true,
            "ticks": "",
            "zerolinecolor": "white"
           }
          },
          "shapedefaults": {
           "line": {
            "color": "#2a3f5f"
           }
          },
          "ternary": {
           "aaxis": {
            "gridcolor": "white",
            "linecolor": "white",
            "ticks": ""
           },
           "baxis": {
            "gridcolor": "white",
            "linecolor": "white",
            "ticks": ""
           },
           "bgcolor": "#E5ECF6",
           "caxis": {
            "gridcolor": "white",
            "linecolor": "white",
            "ticks": ""
           }
          },
          "title": {
           "x": 0.05
          },
          "xaxis": {
           "automargin": true,
           "gridcolor": "white",
           "linecolor": "white",
           "ticks": "",
           "title": {
            "standoff": 15
           },
           "zerolinecolor": "white",
           "zerolinewidth": 2
          },
          "yaxis": {
           "automargin": true,
           "gridcolor": "white",
           "linecolor": "white",
           "ticks": "",
           "title": {
            "standoff": 15
           },
           "zerolinecolor": "white",
           "zerolinewidth": 2
          }
         }
        },
        "title": {
         "text": "Frekuensi dan Persentase Hasil Prediksi Berdasarkan Kategori"
        },
        "xaxis": {
         "title": {
          "text": "Kategori"
         }
        },
        "yaxis": {
         "title": {
          "text": "Jumlah Prediksi"
         }
        }
       }
      }
     },
     "metadata": {},
     "output_type": "display_data"
    }
   ],
   "source": [
    "# Hitung frekuensi prediksi berdasarkan kategori\n",
    "frekuensi_prediksi = pd.Series(y_pred_labels).value_counts().sort_index()\n",
    "\n",
    "# Hitung persentase masing-masing kategori dan bulatkan menjadi dua desimal\n",
    "persentase_prediksi = ((frekuensi_prediksi / len(y_pred_labels)) * 100).round(2)\n",
    "\n",
    "# Buat dataframe untuk menampilkan jumlah dan persentase\n",
    "prediksi_summary = pd.DataFrame({\n",
    "    'Kategori': frekuensi_prediksi.index,\n",
    "    'Jumlah': frekuensi_prediksi.values,\n",
    "    'Persentase (%)': persentase_prediksi.values\n",
    "})\n",
    "\n",
    "# Tampilkan tabel\n",
    "print(prediksi_summary)\n",
    "\n",
    "# Warna untuk setiap kategori\n",
    "colors = ['#636EFA', '#EF553B', '#00CC96', '#AB63FA']\n",
    "\n",
    "# Visualisasi frekuensi prediksi dengan Plotly\n",
    "bar_frekuensi = go.Figure([go.Bar(x=prediksi_summary['Kategori'], \n",
    "                                  y=prediksi_summary['Jumlah'], \n",
    "                                  text=prediksi_summary['Persentase (%)'], \n",
    "                                  textposition='auto', \n",
    "                                  marker_color=colors)])\n",
    "\n",
    "bar_frekuensi.update_layout(title='Frekuensi dan Persentase Hasil Prediksi Berdasarkan Kategori', \n",
    "                            xaxis_title='Kategori', \n",
    "                            yaxis_title='Jumlah Prediksi')\n",
    "\n",
    "# Tampilkan grafik batang\n",
    "bar_frekuensi.show()\n"
   ]
  },
  {
   "cell_type": "code",
   "execution_count": 42,
   "metadata": {},
   "outputs": [
    {
     "data": {
      "text/html": [
       "<div style=\"width:100%;\"><div style=\"position:relative;width:100%;height:0;padding-bottom:60%;\"><span style=\"color:#565656\">Make this Notebook Trusted to load map: File -> Trust Notebook</span><iframe srcdoc=\"&lt;!DOCTYPE html&gt;\n",
       "&lt;html&gt;\n",
       "&lt;head&gt;\n",
       "    \n",
       "    &lt;meta http-equiv=&quot;content-type&quot; content=&quot;text/html; charset=UTF-8&quot; /&gt;\n",
       "    \n",
       "        &lt;script&gt;\n",
       "            L_NO_TOUCH = false;\n",
       "            L_DISABLE_3D = false;\n",
       "        &lt;/script&gt;\n",
       "    \n",
       "    &lt;style&gt;html, body {width: 100%;height: 100%;margin: 0;padding: 0;}&lt;/style&gt;\n",
       "    &lt;style&gt;#map {position:absolute;top:0;bottom:0;right:0;left:0;}&lt;/style&gt;\n",
       "    &lt;script src=&quot;https://cdn.jsdelivr.net/npm/leaflet@1.9.3/dist/leaflet.js&quot;&gt;&lt;/script&gt;\n",
       "    &lt;script src=&quot;https://code.jquery.com/jquery-3.7.1.min.js&quot;&gt;&lt;/script&gt;\n",
       "    &lt;script src=&quot;https://cdn.jsdelivr.net/npm/bootstrap@5.2.2/dist/js/bootstrap.bundle.min.js&quot;&gt;&lt;/script&gt;\n",
       "    &lt;script src=&quot;https://cdnjs.cloudflare.com/ajax/libs/Leaflet.awesome-markers/2.0.2/leaflet.awesome-markers.js&quot;&gt;&lt;/script&gt;\n",
       "    &lt;link rel=&quot;stylesheet&quot; href=&quot;https://cdn.jsdelivr.net/npm/leaflet@1.9.3/dist/leaflet.css&quot;/&gt;\n",
       "    &lt;link rel=&quot;stylesheet&quot; href=&quot;https://cdn.jsdelivr.net/npm/bootstrap@5.2.2/dist/css/bootstrap.min.css&quot;/&gt;\n",
       "    &lt;link rel=&quot;stylesheet&quot; href=&quot;https://netdna.bootstrapcdn.com/bootstrap/3.0.0/css/bootstrap.min.css&quot;/&gt;\n",
       "    &lt;link rel=&quot;stylesheet&quot; href=&quot;https://cdn.jsdelivr.net/npm/@fortawesome/fontawesome-free@6.2.0/css/all.min.css&quot;/&gt;\n",
       "    &lt;link rel=&quot;stylesheet&quot; href=&quot;https://cdnjs.cloudflare.com/ajax/libs/Leaflet.awesome-markers/2.0.2/leaflet.awesome-markers.css&quot;/&gt;\n",
       "    &lt;link rel=&quot;stylesheet&quot; href=&quot;https://cdn.jsdelivr.net/gh/python-visualization/folium/folium/templates/leaflet.awesome.rotate.min.css&quot;/&gt;\n",
       "    \n",
       "            &lt;meta name=&quot;viewport&quot; content=&quot;width=device-width,\n",
       "                initial-scale=1.0, maximum-scale=1.0, user-scalable=no&quot; /&gt;\n",
       "            &lt;style&gt;\n",
       "                #map_2644d17a563647294d8249f67ffad0ff {\n",
       "                    position: relative;\n",
       "                    width: 100.0%;\n",
       "                    height: 100.0%;\n",
       "                    left: 0.0%;\n",
       "                    top: 0.0%;\n",
       "                }\n",
       "                .leaflet-container { font-size: 1rem; }\n",
       "            &lt;/style&gt;\n",
       "        \n",
       "&lt;/head&gt;\n",
       "&lt;body&gt;\n",
       "    \n",
       "    \n",
       "            &lt;div class=&quot;folium-map&quot; id=&quot;map_2644d17a563647294d8249f67ffad0ff&quot; &gt;&lt;/div&gt;\n",
       "        \n",
       "&lt;/body&gt;\n",
       "&lt;script&gt;\n",
       "    \n",
       "    \n",
       "            var map_2644d17a563647294d8249f67ffad0ff = L.map(\n",
       "                &quot;map_2644d17a563647294d8249f67ffad0ff&quot;,\n",
       "                {\n",
       "                    center: [5.22, 97.22],\n",
       "                    crs: L.CRS.EPSG3857,\n",
       "                    zoom: 10,\n",
       "                    zoomControl: true,\n",
       "                    preferCanvas: false,\n",
       "                }\n",
       "            );\n",
       "\n",
       "            \n",
       "\n",
       "        \n",
       "    \n",
       "            var tile_layer_5f53c4a9c50afd676d96b1a676fa8c35 = L.tileLayer(\n",
       "                &quot;https://tile.openstreetmap.org/{z}/{x}/{y}.png&quot;,\n",
       "                {&quot;attribution&quot;: &quot;\\u0026copy; \\u003ca href=\\&quot;https://www.openstreetmap.org/copyright\\&quot;\\u003eOpenStreetMap\\u003c/a\\u003e contributors&quot;, &quot;detectRetina&quot;: false, &quot;maxNativeZoom&quot;: 19, &quot;maxZoom&quot;: 19, &quot;minZoom&quot;: 0, &quot;noWrap&quot;: false, &quot;opacity&quot;: 1, &quot;subdomains&quot;: &quot;abc&quot;, &quot;tms&quot;: false}\n",
       "            );\n",
       "        \n",
       "    \n",
       "            tile_layer_5f53c4a9c50afd676d96b1a676fa8c35.addTo(map_2644d17a563647294d8249f67ffad0ff);\n",
       "        \n",
       "    \n",
       "            var marker_167720b9d050036efbb8d43fbaa48d23 = L.marker(\n",
       "                [5.0517222, 97.3078233],\n",
       "                {}\n",
       "            ).addTo(map_2644d17a563647294d8249f67ffad0ff);\n",
       "        \n",
       "    \n",
       "            var icon_82a36f57ee2173edd8f5cb0042af6730 = L.AwesomeMarkers.icon(\n",
       "                {&quot;extraClasses&quot;: &quot;fa-rotate-0&quot;, &quot;icon&quot;: &quot;info-sign&quot;, &quot;iconColor&quot;: &quot;white&quot;, &quot;markerColor&quot;: &quot;orange&quot;, &quot;prefix&quot;: &quot;glyphicon&quot;}\n",
       "            );\n",
       "            marker_167720b9d050036efbb8d43fbaa48d23.setIcon(icon_82a36f57ee2173edd8f5cb0042af6730);\n",
       "        \n",
       "    \n",
       "        var popup_80b2d58e401cecafb7ca9cfe4009ebba = L.popup({&quot;maxWidth&quot;: 500});\n",
       "\n",
       "        \n",
       "            \n",
       "                var i_frame_a5f2e6d05f258fd21f8c8bca8ca783f8 = $(`&lt;iframe src=&quot;data:text/html;charset=utf-8;base64,CiAgICAKICAgIAo8c3R5bGU+CiAgICAucG9wdXAtdGFibGUgeyBmb250LWZhbWlseTogQXJpYWwsIHNhbnMtc2VyaWY7IGJvcmRlci1jb2xsYXBzZTogY29sbGFwc2U7IHdpZHRoOiAxMDAlOyB9CiAgICAucG9wdXAtdGFibGUgdGQsIC5wb3B1cC10YWJsZSB0aCB7IGJvcmRlcjogMXB4IHNvbGlkICNkZGQ7IHBhZGRpbmc6IDhweDsgdGV4dC1hbGlnbjogbGVmdDsgfQogICAgLnBvcHVwLXRhYmxlIHRyOm50aC1jaGlsZChldmVuKSB7IGJhY2tncm91bmQtY29sb3I6ICNmMmYyZjI7IH0KICAgIC5wb3B1cC10YWJsZSB0cjpob3ZlciB7IGJhY2tncm91bmQtY29sb3I6ICNkZGQ7IH0KICAgIC5wb3B1cC10YWJsZSB0aCB7IHBhZGRpbmctdG9wOiAxMnB4OyBwYWRkaW5nLWJvdHRvbTogMTJweDsgYmFja2dyb3VuZC1jb2xvcjogIzRDQUY1MDsgY29sb3I6IHdoaXRlOyB9Cjwvc3R5bGU+CgogICAgPHRhYmxlIGNsYXNzPSJwb3B1cC10YWJsZSI+CiAgICAgICAgPHRoZWFkPgogICAgICAgICAgICA8dHI+CiAgICAgICAgICAgICAgICA8dGg+U3RhdHVzPC90aD4KICAgICAgICAgICAgICAgIDx0aD5KdW1sYWg8L3RoPgogICAgICAgICAgICAgICAgPHRoPlBlcnNlbnRhc2UgKCUpPC90aD4KICAgICAgICAgICAgPC90cj4KICAgICAgICA8L3RoZWFkPgogICAgICAgIDx0Ym9keT4KICAgIAogICAgICAgIDx0cj4KICAgICAgICAgICAgPHRkPldhc3BhZGE8L3RkPgogICAgICAgICAgICA8dGQ+MTU8L3RkPgogICAgICAgICAgICA8dGQ+MzAuMDwvdGQ+CiAgICAgICAgPC90cj4KICAgICAgICAKICAgICAgICA8dHI+CiAgICAgICAgICAgIDx0ZD5TaWFnYTwvdGQ+CiAgICAgICAgICAgIDx0ZD4xMzwvdGQ+CiAgICAgICAgICAgIDx0ZD4yNi4wPC90ZD4KICAgICAgICA8L3RyPgogICAgICAgIAogICAgICAgIDx0cj4KICAgICAgICAgICAgPHRkPkF3YXM8L3RkPgogICAgICAgICAgICA8dGQ+MTM8L3RkPgogICAgICAgICAgICA8dGQ+MjYuMDwvdGQ+CiAgICAgICAgPC90cj4KICAgICAgICAKICAgICAgICA8dHI+CiAgICAgICAgICAgIDx0ZD5BbWFuPC90ZD4KICAgICAgICAgICAgPHRkPjk8L3RkPgogICAgICAgICAgICA8dGQ+MTguMDwvdGQ+CiAgICAgICAgPC90cj4KICAgICAgICA8L3Rib2R5PjwvdGFibGU+&quot; width=&quot;500&quot; style=&quot;border:none !important;&quot; height=&quot;300&quot;&gt;&lt;/iframe&gt;`)[0];\n",
       "                popup_80b2d58e401cecafb7ca9cfe4009ebba.setContent(i_frame_a5f2e6d05f258fd21f8c8bca8ca783f8);\n",
       "            \n",
       "        \n",
       "\n",
       "        marker_167720b9d050036efbb8d43fbaa48d23.bindPopup(popup_80b2d58e401cecafb7ca9cfe4009ebba)\n",
       "        ;\n",
       "\n",
       "        \n",
       "    \n",
       "    \n",
       "            var marker_4821689d9918cd6a46f044654837417e = L.marker(\n",
       "                [4.9211586, 97.1261701],\n",
       "                {}\n",
       "            ).addTo(map_2644d17a563647294d8249f67ffad0ff);\n",
       "        \n",
       "    \n",
       "            var icon_9a2cad2280d946c6d66d63ebe8144988 = L.AwesomeMarkers.icon(\n",
       "                {&quot;extraClasses&quot;: &quot;fa-rotate-0&quot;, &quot;icon&quot;: &quot;info-sign&quot;, &quot;iconColor&quot;: &quot;white&quot;, &quot;markerColor&quot;: &quot;orange&quot;, &quot;prefix&quot;: &quot;glyphicon&quot;}\n",
       "            );\n",
       "            marker_4821689d9918cd6a46f044654837417e.setIcon(icon_9a2cad2280d946c6d66d63ebe8144988);\n",
       "        \n",
       "    \n",
       "        var popup_5b6d78033adf9c7ee9729847ef0ae29b = L.popup({&quot;maxWidth&quot;: 500});\n",
       "\n",
       "        \n",
       "            \n",
       "                var i_frame_f16ed0f8ff5de4d1a605b85ae7a289cb = $(`&lt;iframe src=&quot;data:text/html;charset=utf-8;base64,CiAgICAKICAgIAo8c3R5bGU+CiAgICAucG9wdXAtdGFibGUgeyBmb250LWZhbWlseTogQXJpYWwsIHNhbnMtc2VyaWY7IGJvcmRlci1jb2xsYXBzZTogY29sbGFwc2U7IHdpZHRoOiAxMDAlOyB9CiAgICAucG9wdXAtdGFibGUgdGQsIC5wb3B1cC10YWJsZSB0aCB7IGJvcmRlcjogMXB4IHNvbGlkICNkZGQ7IHBhZGRpbmc6IDhweDsgdGV4dC1hbGlnbjogbGVmdDsgfQogICAgLnBvcHVwLXRhYmxlIHRyOm50aC1jaGlsZChldmVuKSB7IGJhY2tncm91bmQtY29sb3I6ICNmMmYyZjI7IH0KICAgIC5wb3B1cC10YWJsZSB0cjpob3ZlciB7IGJhY2tncm91bmQtY29sb3I6ICNkZGQ7IH0KICAgIC5wb3B1cC10YWJsZSB0aCB7IHBhZGRpbmctdG9wOiAxMnB4OyBwYWRkaW5nLWJvdHRvbTogMTJweDsgYmFja2dyb3VuZC1jb2xvcjogIzRDQUY1MDsgY29sb3I6IHdoaXRlOyB9Cjwvc3R5bGU+CgogICAgPHRhYmxlIGNsYXNzPSJwb3B1cC10YWJsZSI+CiAgICAgICAgPHRoZWFkPgogICAgICAgICAgICA8dHI+CiAgICAgICAgICAgICAgICA8dGg+U3RhdHVzPC90aD4KICAgICAgICAgICAgICAgIDx0aD5KdW1sYWg8L3RoPgogICAgICAgICAgICAgICAgPHRoPlBlcnNlbnRhc2UgKCUpPC90aD4KICAgICAgICAgICAgPC90cj4KICAgICAgICA8L3RoZWFkPgogICAgICAgIDx0Ym9keT4KICAgIAogICAgICAgIDx0cj4KICAgICAgICAgICAgPHRkPldhc3BhZGE8L3RkPgogICAgICAgICAgICA8dGQ+MTY8L3RkPgogICAgICAgICAgICA8dGQ+MzMuMzM8L3RkPgogICAgICAgIDwvdHI+CiAgICAgICAgCiAgICAgICAgPHRyPgogICAgICAgICAgICA8dGQ+U2lhZ2E8L3RkPgogICAgICAgICAgICA8dGQ+MTI8L3RkPgogICAgICAgICAgICA8dGQ+MjUuMDwvdGQ+CiAgICAgICAgPC90cj4KICAgICAgICAKICAgICAgICA8dHI+CiAgICAgICAgICAgIDx0ZD5BbWFuPC90ZD4KICAgICAgICAgICAgPHRkPjExPC90ZD4KICAgICAgICAgICAgPHRkPjIyLjkyPC90ZD4KICAgICAgICA8L3RyPgogICAgICAgIAogICAgICAgIDx0cj4KICAgICAgICAgICAgPHRkPkF3YXM8L3RkPgogICAgICAgICAgICA8dGQ+OTwvdGQ+CiAgICAgICAgICAgIDx0ZD4xOC43NTwvdGQ+CiAgICAgICAgPC90cj4KICAgICAgICA8L3Rib2R5PjwvdGFibGU+&quot; width=&quot;500&quot; style=&quot;border:none !important;&quot; height=&quot;300&quot;&gt;&lt;/iframe&gt;`)[0];\n",
       "                popup_5b6d78033adf9c7ee9729847ef0ae29b.setContent(i_frame_f16ed0f8ff5de4d1a605b85ae7a289cb);\n",
       "            \n",
       "        \n",
       "\n",
       "        marker_4821689d9918cd6a46f044654837417e.bindPopup(popup_5b6d78033adf9c7ee9729847ef0ae29b)\n",
       "        ;\n",
       "\n",
       "        \n",
       "    \n",
       "    \n",
       "            var marker_62c0a4029a53cf212ae47103516e8f37 = L.marker(\n",
       "                [4.8616275, 97.2673567],\n",
       "                {}\n",
       "            ).addTo(map_2644d17a563647294d8249f67ffad0ff);\n",
       "        \n",
       "    \n",
       "            var icon_67970c300a7f3607dd50b87105fde434 = L.AwesomeMarkers.icon(\n",
       "                {&quot;extraClasses&quot;: &quot;fa-rotate-0&quot;, &quot;icon&quot;: &quot;info-sign&quot;, &quot;iconColor&quot;: &quot;white&quot;, &quot;markerColor&quot;: &quot;orange&quot;, &quot;prefix&quot;: &quot;glyphicon&quot;}\n",
       "            );\n",
       "            marker_62c0a4029a53cf212ae47103516e8f37.setIcon(icon_67970c300a7f3607dd50b87105fde434);\n",
       "        \n",
       "    \n",
       "        var popup_a90e50e5017eeee603802442371899c3 = L.popup({&quot;maxWidth&quot;: 500});\n",
       "\n",
       "        \n",
       "            \n",
       "                var i_frame_26c10c19fa98f823e76e7fe21215b8d0 = $(`&lt;iframe src=&quot;data:text/html;charset=utf-8;base64,CiAgICAKICAgIAo8c3R5bGU+CiAgICAucG9wdXAtdGFibGUgeyBmb250LWZhbWlseTogQXJpYWwsIHNhbnMtc2VyaWY7IGJvcmRlci1jb2xsYXBzZTogY29sbGFwc2U7IHdpZHRoOiAxMDAlOyB9CiAgICAucG9wdXAtdGFibGUgdGQsIC5wb3B1cC10YWJsZSB0aCB7IGJvcmRlcjogMXB4IHNvbGlkICNkZGQ7IHBhZGRpbmc6IDhweDsgdGV4dC1hbGlnbjogbGVmdDsgfQogICAgLnBvcHVwLXRhYmxlIHRyOm50aC1jaGlsZChldmVuKSB7IGJhY2tncm91bmQtY29sb3I6ICNmMmYyZjI7IH0KICAgIC5wb3B1cC10YWJsZSB0cjpob3ZlciB7IGJhY2tncm91bmQtY29sb3I6ICNkZGQ7IH0KICAgIC5wb3B1cC10YWJsZSB0aCB7IHBhZGRpbmctdG9wOiAxMnB4OyBwYWRkaW5nLWJvdHRvbTogMTJweDsgYmFja2dyb3VuZC1jb2xvcjogIzRDQUY1MDsgY29sb3I6IHdoaXRlOyB9Cjwvc3R5bGU+CgogICAgPHRhYmxlIGNsYXNzPSJwb3B1cC10YWJsZSI+CiAgICAgICAgPHRoZWFkPgogICAgICAgICAgICA8dHI+CiAgICAgICAgICAgICAgICA8dGg+U3RhdHVzPC90aD4KICAgICAgICAgICAgICAgIDx0aD5KdW1sYWg8L3RoPgogICAgICAgICAgICAgICAgPHRoPlBlcnNlbnRhc2UgKCUpPC90aD4KICAgICAgICAgICAgPC90cj4KICAgICAgICA8L3RoZWFkPgogICAgICAgIDx0Ym9keT4KICAgIAogICAgICAgIDx0cj4KICAgICAgICAgICAgPHRkPldhc3BhZGE8L3RkPgogICAgICAgICAgICA8dGQ+MTY8L3RkPgogICAgICAgICAgICA8dGQ+MzIuMDwvdGQ+CiAgICAgICAgPC90cj4KICAgICAgICAKICAgICAgICA8dHI+CiAgICAgICAgICAgIDx0ZD5TaWFnYTwvdGQ+CiAgICAgICAgICAgIDx0ZD4xNDwvdGQ+CiAgICAgICAgICAgIDx0ZD4yOC4wPC90ZD4KICAgICAgICA8L3RyPgogICAgICAgIAogICAgICAgIDx0cj4KICAgICAgICAgICAgPHRkPkF3YXM8L3RkPgogICAgICAgICAgICA8dGQ+MTI8L3RkPgogICAgICAgICAgICA8dGQ+MjQuMDwvdGQ+CiAgICAgICAgPC90cj4KICAgICAgICAKICAgICAgICA8dHI+CiAgICAgICAgICAgIDx0ZD5BbWFuPC90ZD4KICAgICAgICAgICAgPHRkPjg8L3RkPgogICAgICAgICAgICA8dGQ+MTYuMDwvdGQ+CiAgICAgICAgPC90cj4KICAgICAgICA8L3Rib2R5PjwvdGFibGU+&quot; width=&quot;500&quot; style=&quot;border:none !important;&quot; height=&quot;300&quot;&gt;&lt;/iframe&gt;`)[0];\n",
       "                popup_a90e50e5017eeee603802442371899c3.setContent(i_frame_26c10c19fa98f823e76e7fe21215b8d0);\n",
       "            \n",
       "        \n",
       "\n",
       "        marker_62c0a4029a53cf212ae47103516e8f37.bindPopup(popup_a90e50e5017eeee603802442371899c3)\n",
       "        ;\n",
       "\n",
       "        \n",
       "    \n",
       "    \n",
       "            var marker_6caf723089a2af04db61dce62056daa5 = L.marker(\n",
       "                [5.0306322, 97.2316173],\n",
       "                {}\n",
       "            ).addTo(map_2644d17a563647294d8249f67ffad0ff);\n",
       "        \n",
       "    \n",
       "            var icon_1437593c800518a2b6a8edc3d5cb1013 = L.AwesomeMarkers.icon(\n",
       "                {&quot;extraClasses&quot;: &quot;fa-rotate-0&quot;, &quot;icon&quot;: &quot;info-sign&quot;, &quot;iconColor&quot;: &quot;white&quot;, &quot;markerColor&quot;: &quot;orange&quot;, &quot;prefix&quot;: &quot;glyphicon&quot;}\n",
       "            );\n",
       "            marker_6caf723089a2af04db61dce62056daa5.setIcon(icon_1437593c800518a2b6a8edc3d5cb1013);\n",
       "        \n",
       "    \n",
       "        var popup_aefe5e77a34db14dcb392334b93043b5 = L.popup({&quot;maxWidth&quot;: 500});\n",
       "\n",
       "        \n",
       "            \n",
       "                var i_frame_96e34ce8379f60981a4fa00953abb1fc = $(`&lt;iframe src=&quot;data:text/html;charset=utf-8;base64,CiAgICAKICAgIAo8c3R5bGU+CiAgICAucG9wdXAtdGFibGUgeyBmb250LWZhbWlseTogQXJpYWwsIHNhbnMtc2VyaWY7IGJvcmRlci1jb2xsYXBzZTogY29sbGFwc2U7IHdpZHRoOiAxMDAlOyB9CiAgICAucG9wdXAtdGFibGUgdGQsIC5wb3B1cC10YWJsZSB0aCB7IGJvcmRlcjogMXB4IHNvbGlkICNkZGQ7IHBhZGRpbmc6IDhweDsgdGV4dC1hbGlnbjogbGVmdDsgfQogICAgLnBvcHVwLXRhYmxlIHRyOm50aC1jaGlsZChldmVuKSB7IGJhY2tncm91bmQtY29sb3I6ICNmMmYyZjI7IH0KICAgIC5wb3B1cC10YWJsZSB0cjpob3ZlciB7IGJhY2tncm91bmQtY29sb3I6ICNkZGQ7IH0KICAgIC5wb3B1cC10YWJsZSB0aCB7IHBhZGRpbmctdG9wOiAxMnB4OyBwYWRkaW5nLWJvdHRvbTogMTJweDsgYmFja2dyb3VuZC1jb2xvcjogIzRDQUY1MDsgY29sb3I6IHdoaXRlOyB9Cjwvc3R5bGU+CgogICAgPHRhYmxlIGNsYXNzPSJwb3B1cC10YWJsZSI+CiAgICAgICAgPHRoZWFkPgogICAgICAgICAgICA8dHI+CiAgICAgICAgICAgICAgICA8dGg+U3RhdHVzPC90aD4KICAgICAgICAgICAgICAgIDx0aD5KdW1sYWg8L3RoPgogICAgICAgICAgICAgICAgPHRoPlBlcnNlbnRhc2UgKCUpPC90aD4KICAgICAgICAgICAgPC90cj4KICAgICAgICA8L3RoZWFkPgogICAgICAgIDx0Ym9keT4KICAgIAogICAgICAgIDx0cj4KICAgICAgICAgICAgPHRkPldhc3BhZGE8L3RkPgogICAgICAgICAgICA8dGQ+MTQ8L3RkPgogICAgICAgICAgICA8dGQ+MjkuNzk8L3RkPgogICAgICAgIDwvdHI+CiAgICAgICAgCiAgICAgICAgPHRyPgogICAgICAgICAgICA8dGQ+QXdhczwvdGQ+CiAgICAgICAgICAgIDx0ZD4xMzwvdGQ+CiAgICAgICAgICAgIDx0ZD4yNy42NjwvdGQ+CiAgICAgICAgPC90cj4KICAgICAgICAKICAgICAgICA8dHI+CiAgICAgICAgICAgIDx0ZD5TaWFnYTwvdGQ+CiAgICAgICAgICAgIDx0ZD4xMjwvdGQ+CiAgICAgICAgICAgIDx0ZD4yNS41MzwvdGQ+CiAgICAgICAgPC90cj4KICAgICAgICAKICAgICAgICA8dHI+CiAgICAgICAgICAgIDx0ZD5BbWFuPC90ZD4KICAgICAgICAgICAgPHRkPjg8L3RkPgogICAgICAgICAgICA8dGQ+MTcuMDI8L3RkPgogICAgICAgIDwvdHI+CiAgICAgICAgPC90Ym9keT48L3RhYmxlPg==&quot; width=&quot;500&quot; style=&quot;border:none !important;&quot; height=&quot;300&quot;&gt;&lt;/iframe&gt;`)[0];\n",
       "                popup_aefe5e77a34db14dcb392334b93043b5.setContent(i_frame_96e34ce8379f60981a4fa00953abb1fc);\n",
       "            \n",
       "        \n",
       "\n",
       "        marker_6caf723089a2af04db61dce62056daa5.bindPopup(popup_aefe5e77a34db14dcb392334b93043b5)\n",
       "        ;\n",
       "\n",
       "        \n",
       "    \n",
       "    \n",
       "            var marker_a81b70f53ac9ec94e89a2a3e66f4d6c9 = L.marker(\n",
       "                [4.9826373, 97.0425453],\n",
       "                {}\n",
       "            ).addTo(map_2644d17a563647294d8249f67ffad0ff);\n",
       "        \n",
       "    \n",
       "            var icon_9c03b13da9f7dce30b3fb92ec898b173 = L.AwesomeMarkers.icon(\n",
       "                {&quot;extraClasses&quot;: &quot;fa-rotate-0&quot;, &quot;icon&quot;: &quot;info-sign&quot;, &quot;iconColor&quot;: &quot;white&quot;, &quot;markerColor&quot;: &quot;orange&quot;, &quot;prefix&quot;: &quot;glyphicon&quot;}\n",
       "            );\n",
       "            marker_a81b70f53ac9ec94e89a2a3e66f4d6c9.setIcon(icon_9c03b13da9f7dce30b3fb92ec898b173);\n",
       "        \n",
       "    \n",
       "        var popup_ef7ee0e7d4548ab508740f43f6a797d4 = L.popup({&quot;maxWidth&quot;: 500});\n",
       "\n",
       "        \n",
       "            \n",
       "                var i_frame_6daf4c55da179f181c4d8780e58fab9b = $(`&lt;iframe src=&quot;data:text/html;charset=utf-8;base64,CiAgICAKICAgIAo8c3R5bGU+CiAgICAucG9wdXAtdGFibGUgeyBmb250LWZhbWlseTogQXJpYWwsIHNhbnMtc2VyaWY7IGJvcmRlci1jb2xsYXBzZTogY29sbGFwc2U7IHdpZHRoOiAxMDAlOyB9CiAgICAucG9wdXAtdGFibGUgdGQsIC5wb3B1cC10YWJsZSB0aCB7IGJvcmRlcjogMXB4IHNvbGlkICNkZGQ7IHBhZGRpbmc6IDhweDsgdGV4dC1hbGlnbjogbGVmdDsgfQogICAgLnBvcHVwLXRhYmxlIHRyOm50aC1jaGlsZChldmVuKSB7IGJhY2tncm91bmQtY29sb3I6ICNmMmYyZjI7IH0KICAgIC5wb3B1cC10YWJsZSB0cjpob3ZlciB7IGJhY2tncm91bmQtY29sb3I6ICNkZGQ7IH0KICAgIC5wb3B1cC10YWJsZSB0aCB7IHBhZGRpbmctdG9wOiAxMnB4OyBwYWRkaW5nLWJvdHRvbTogMTJweDsgYmFja2dyb3VuZC1jb2xvcjogIzRDQUY1MDsgY29sb3I6IHdoaXRlOyB9Cjwvc3R5bGU+CgogICAgPHRhYmxlIGNsYXNzPSJwb3B1cC10YWJsZSI+CiAgICAgICAgPHRoZWFkPgogICAgICAgICAgICA8dHI+CiAgICAgICAgICAgICAgICA8dGg+U3RhdHVzPC90aD4KICAgICAgICAgICAgICAgIDx0aD5KdW1sYWg8L3RoPgogICAgICAgICAgICAgICAgPHRoPlBlcnNlbnRhc2UgKCUpPC90aD4KICAgICAgICAgICAgPC90cj4KICAgICAgICA8L3RoZWFkPgogICAgICAgIDx0Ym9keT4KICAgIAogICAgICAgIDx0cj4KICAgICAgICAgICAgPHRkPldhc3BhZGE8L3RkPgogICAgICAgICAgICA8dGQ+MTU8L3RkPgogICAgICAgICAgICA8dGQ+MzMuMzM8L3RkPgogICAgICAgIDwvdHI+CiAgICAgICAgCiAgICAgICAgPHRyPgogICAgICAgICAgICA8dGQ+U2lhZ2E8L3RkPgogICAgICAgICAgICA8dGQ+MTA8L3RkPgogICAgICAgICAgICA8dGQ+MjIuMjI8L3RkPgogICAgICAgIDwvdHI+CiAgICAgICAgCiAgICAgICAgPHRyPgogICAgICAgICAgICA8dGQ+QW1hbjwvdGQ+CiAgICAgICAgICAgIDx0ZD4xMDwvdGQ+CiAgICAgICAgICAgIDx0ZD4yMi4yMjwvdGQ+CiAgICAgICAgPC90cj4KICAgICAgICAKICAgICAgICA8dHI+CiAgICAgICAgICAgIDx0ZD5Bd2FzPC90ZD4KICAgICAgICAgICAgPHRkPjEwPC90ZD4KICAgICAgICAgICAgPHRkPjIyLjIyPC90ZD4KICAgICAgICA8L3RyPgogICAgICAgIDwvdGJvZHk+PC90YWJsZT4=&quot; width=&quot;500&quot; style=&quot;border:none !important;&quot; height=&quot;300&quot;&gt;&lt;/iframe&gt;`)[0];\n",
       "                popup_ef7ee0e7d4548ab508740f43f6a797d4.setContent(i_frame_6daf4c55da179f181c4d8780e58fab9b);\n",
       "            \n",
       "        \n",
       "\n",
       "        marker_a81b70f53ac9ec94e89a2a3e66f4d6c9.bindPopup(popup_ef7ee0e7d4548ab508740f43f6a797d4)\n",
       "        ;\n",
       "\n",
       "        \n",
       "    \n",
       "    \n",
       "            var marker_6db977ac684ff7a08cbef6d5f2a145c5 = L.marker(\n",
       "                [5.228798, 96.9449662],\n",
       "                {}\n",
       "            ).addTo(map_2644d17a563647294d8249f67ffad0ff);\n",
       "        \n",
       "    \n",
       "            var icon_b4665d91d36deb0587dd9e39d31e3693 = L.AwesomeMarkers.icon(\n",
       "                {&quot;extraClasses&quot;: &quot;fa-rotate-0&quot;, &quot;icon&quot;: &quot;info-sign&quot;, &quot;iconColor&quot;: &quot;white&quot;, &quot;markerColor&quot;: &quot;orange&quot;, &quot;prefix&quot;: &quot;glyphicon&quot;}\n",
       "            );\n",
       "            marker_6db977ac684ff7a08cbef6d5f2a145c5.setIcon(icon_b4665d91d36deb0587dd9e39d31e3693);\n",
       "        \n",
       "    \n",
       "        var popup_e674ef75d596c2f59c88bcfdec33e778 = L.popup({&quot;maxWidth&quot;: 500});\n",
       "\n",
       "        \n",
       "            \n",
       "                var i_frame_80039f4c22cee0beb54f472d99015885 = $(`&lt;iframe src=&quot;data:text/html;charset=utf-8;base64,CiAgICAKICAgIAo8c3R5bGU+CiAgICAucG9wdXAtdGFibGUgeyBmb250LWZhbWlseTogQXJpYWwsIHNhbnMtc2VyaWY7IGJvcmRlci1jb2xsYXBzZTogY29sbGFwc2U7IHdpZHRoOiAxMDAlOyB9CiAgICAucG9wdXAtdGFibGUgdGQsIC5wb3B1cC10YWJsZSB0aCB7IGJvcmRlcjogMXB4IHNvbGlkICNkZGQ7IHBhZGRpbmc6IDhweDsgdGV4dC1hbGlnbjogbGVmdDsgfQogICAgLnBvcHVwLXRhYmxlIHRyOm50aC1jaGlsZChldmVuKSB7IGJhY2tncm91bmQtY29sb3I6ICNmMmYyZjI7IH0KICAgIC5wb3B1cC10YWJsZSB0cjpob3ZlciB7IGJhY2tncm91bmQtY29sb3I6ICNkZGQ7IH0KICAgIC5wb3B1cC10YWJsZSB0aCB7IHBhZGRpbmctdG9wOiAxMnB4OyBwYWRkaW5nLWJvdHRvbTogMTJweDsgYmFja2dyb3VuZC1jb2xvcjogIzRDQUY1MDsgY29sb3I6IHdoaXRlOyB9Cjwvc3R5bGU+CgogICAgPHRhYmxlIGNsYXNzPSJwb3B1cC10YWJsZSI+CiAgICAgICAgPHRoZWFkPgogICAgICAgICAgICA8dHI+CiAgICAgICAgICAgICAgICA8dGg+U3RhdHVzPC90aD4KICAgICAgICAgICAgICAgIDx0aD5KdW1sYWg8L3RoPgogICAgICAgICAgICAgICAgPHRoPlBlcnNlbnRhc2UgKCUpPC90aD4KICAgICAgICAgICAgPC90cj4KICAgICAgICA8L3RoZWFkPgogICAgICAgIDx0Ym9keT4KICAgIAogICAgICAgIDx0cj4KICAgICAgICAgICAgPHRkPldhc3BhZGE8L3RkPgogICAgICAgICAgICA8dGQ+MTg8L3RkPgogICAgICAgICAgICA8dGQ+MzUuMjk8L3RkPgogICAgICAgIDwvdHI+CiAgICAgICAgCiAgICAgICAgPHRyPgogICAgICAgICAgICA8dGQ+U2lhZ2E8L3RkPgogICAgICAgICAgICA8dGQ+MTI8L3RkPgogICAgICAgICAgICA8dGQ+MjMuNTM8L3RkPgogICAgICAgIDwvdHI+CiAgICAgICAgCiAgICAgICAgPHRyPgogICAgICAgICAgICA8dGQ+QXdhczwvdGQ+CiAgICAgICAgICAgIDx0ZD4xMTwvdGQ+CiAgICAgICAgICAgIDx0ZD4yMS41NzwvdGQ+CiAgICAgICAgPC90cj4KICAgICAgICAKICAgICAgICA8dHI+CiAgICAgICAgICAgIDx0ZD5BbWFuPC90ZD4KICAgICAgICAgICAgPHRkPjEwPC90ZD4KICAgICAgICAgICAgPHRkPjE5LjYxPC90ZD4KICAgICAgICA8L3RyPgogICAgICAgIDwvdGJvZHk+PC90YWJsZT4=&quot; width=&quot;500&quot; style=&quot;border:none !important;&quot; height=&quot;300&quot;&gt;&lt;/iframe&gt;`)[0];\n",
       "                popup_e674ef75d596c2f59c88bcfdec33e778.setContent(i_frame_80039f4c22cee0beb54f472d99015885);\n",
       "            \n",
       "        \n",
       "\n",
       "        marker_6db977ac684ff7a08cbef6d5f2a145c5.bindPopup(popup_e674ef75d596c2f59c88bcfdec33e778)\n",
       "        ;\n",
       "\n",
       "        \n",
       "    \n",
       "    \n",
       "            var marker_895d8292aca466a7728e0c8c63143933 = L.marker(\n",
       "                [5.0621243, 97.3258354],\n",
       "                {}\n",
       "            ).addTo(map_2644d17a563647294d8249f67ffad0ff);\n",
       "        \n",
       "    \n",
       "            var icon_b58ea7d128bb29d4a572b0409a2f8c25 = L.AwesomeMarkers.icon(\n",
       "                {&quot;extraClasses&quot;: &quot;fa-rotate-0&quot;, &quot;icon&quot;: &quot;info-sign&quot;, &quot;iconColor&quot;: &quot;white&quot;, &quot;markerColor&quot;: &quot;orange&quot;, &quot;prefix&quot;: &quot;glyphicon&quot;}\n",
       "            );\n",
       "            marker_895d8292aca466a7728e0c8c63143933.setIcon(icon_b58ea7d128bb29d4a572b0409a2f8c25);\n",
       "        \n",
       "    \n",
       "        var popup_c0375f65f38a0fec8a914048059f98bb = L.popup({&quot;maxWidth&quot;: 500});\n",
       "\n",
       "        \n",
       "            \n",
       "                var i_frame_c852d7473b30ea78100f7bab808f7b24 = $(`&lt;iframe src=&quot;data:text/html;charset=utf-8;base64,CiAgICAKICAgIAo8c3R5bGU+CiAgICAucG9wdXAtdGFibGUgeyBmb250LWZhbWlseTogQXJpYWwsIHNhbnMtc2VyaWY7IGJvcmRlci1jb2xsYXBzZTogY29sbGFwc2U7IHdpZHRoOiAxMDAlOyB9CiAgICAucG9wdXAtdGFibGUgdGQsIC5wb3B1cC10YWJsZSB0aCB7IGJvcmRlcjogMXB4IHNvbGlkICNkZGQ7IHBhZGRpbmc6IDhweDsgdGV4dC1hbGlnbjogbGVmdDsgfQogICAgLnBvcHVwLXRhYmxlIHRyOm50aC1jaGlsZChldmVuKSB7IGJhY2tncm91bmQtY29sb3I6ICNmMmYyZjI7IH0KICAgIC5wb3B1cC10YWJsZSB0cjpob3ZlciB7IGJhY2tncm91bmQtY29sb3I6ICNkZGQ7IH0KICAgIC5wb3B1cC10YWJsZSB0aCB7IHBhZGRpbmctdG9wOiAxMnB4OyBwYWRkaW5nLWJvdHRvbTogMTJweDsgYmFja2dyb3VuZC1jb2xvcjogIzRDQUY1MDsgY29sb3I6IHdoaXRlOyB9Cjwvc3R5bGU+CgogICAgPHRhYmxlIGNsYXNzPSJwb3B1cC10YWJsZSI+CiAgICAgICAgPHRoZWFkPgogICAgICAgICAgICA8dHI+CiAgICAgICAgICAgICAgICA8dGg+U3RhdHVzPC90aD4KICAgICAgICAgICAgICAgIDx0aD5KdW1sYWg8L3RoPgogICAgICAgICAgICAgICAgPHRoPlBlcnNlbnRhc2UgKCUpPC90aD4KICAgICAgICAgICAgPC90cj4KICAgICAgICA8L3RoZWFkPgogICAgICAgIDx0Ym9keT4KICAgIAogICAgICAgIDx0cj4KICAgICAgICAgICAgPHRkPldhc3BhZGE8L3RkPgogICAgICAgICAgICA8dGQ+MTU8L3RkPgogICAgICAgICAgICA8dGQ+MzMuMzM8L3RkPgogICAgICAgIDwvdHI+CiAgICAgICAgCiAgICAgICAgPHRyPgogICAgICAgICAgICA8dGQ+QXdhczwvdGQ+CiAgICAgICAgICAgIDx0ZD4xMjwvdGQ+CiAgICAgICAgICAgIDx0ZD4yNi42NzwvdGQ+CiAgICAgICAgPC90cj4KICAgICAgICAKICAgICAgICA8dHI+CiAgICAgICAgICAgIDx0ZD5TaWFnYTwvdGQ+CiAgICAgICAgICAgIDx0ZD4xMTwvdGQ+CiAgICAgICAgICAgIDx0ZD4yNC40NDwvdGQ+CiAgICAgICAgPC90cj4KICAgICAgICAKICAgICAgICA8dHI+CiAgICAgICAgICAgIDx0ZD5BbWFuPC90ZD4KICAgICAgICAgICAgPHRkPjc8L3RkPgogICAgICAgICAgICA8dGQ+MTUuNTY8L3RkPgogICAgICAgIDwvdHI+CiAgICAgICAgPC90Ym9keT48L3RhYmxlPg==&quot; width=&quot;500&quot; style=&quot;border:none !important;&quot; height=&quot;300&quot;&gt;&lt;/iframe&gt;`)[0];\n",
       "                popup_c0375f65f38a0fec8a914048059f98bb.setContent(i_frame_c852d7473b30ea78100f7bab808f7b24);\n",
       "            \n",
       "        \n",
       "\n",
       "        marker_895d8292aca466a7728e0c8c63143933.bindPopup(popup_c0375f65f38a0fec8a914048059f98bb)\n",
       "        ;\n",
       "\n",
       "        \n",
       "    \n",
       "    \n",
       "            tile_layer_5f53c4a9c50afd676d96b1a676fa8c35.addTo(map_2644d17a563647294d8249f67ffad0ff);\n",
       "        \n",
       "&lt;/script&gt;\n",
       "&lt;/html&gt;\" style=\"position:absolute;width:100%;height:100%;left:0;top:0;border:none !important;\" allowfullscreen webkitallowfullscreen mozallowfullscreen></iframe></div></div>"
      ],
      "text/plain": [
       "<folium.folium.Map at 0x1393f242350>"
      ]
     },
     "execution_count": 42,
     "metadata": {},
     "output_type": "execute_result"
    }
   ],
   "source": [
    "import folium\n",
    "import pandas as pd\n",
    "import numpy as np\n",
    "from sklearn.model_selection import train_test_split\n",
    "\n",
    "# Load the data\n",
    "data = pd.read_excel('data.xlsx')\n",
    "\n",
    "# Koordinat untuk wilayah unik\n",
    "coordinates = {\n",
    "    'Baktiya': [5.0621243, 97.3258354],\n",
    "    'Lhoksukon': [5.0517222, 97.3078233],\n",
    "    'Langkahan': [4.9211586, 97.1261701],\n",
    "    'Cot Girek': [4.8616275, 97.2673567],\n",
    "    'Matangkuli': [5.0306322, 97.2316173],\n",
    "    'Tanah Luas': [4.9826373, 97.0425453],\n",
    "    'Stamet Aceh Utara': [5.228798, 96.9449662]\n",
    "}\n",
    "\n",
    "# Pisahkan data menjadi latih dan uji\n",
    "X = data[['Curah_Hujan', 'Suhu', 'Tinggi_Muka_Air']]\n",
    "y = data['Potensi_Banjir']\n",
    "X_train, X_test, y_train, y_test = train_test_split(X, y, test_size=0.2, random_state=42)\n",
    "\n",
    "# Tandai data latih dan uji di dataset\n",
    "data['Set'] = np.where(data.index.isin(X_train.index), 'Latih', 'Uji')\n",
    "\n",
    "# Filter data latih\n",
    "data_latih = data[data['Set'] == 'Latih']\n",
    "\n",
    "# Mapping status potensi banjir ke warna yang didukung oleh Folium\n",
    "status_to_color = {\n",
    "    'Aman': 'lightgreen',\n",
    "    'Waspada': 'orange',\n",
    "    'Siaga': 'beige',\n",
    "    'Awas': 'darkred'\n",
    "}\n",
    "\n",
    "# CSS custom untuk popup\n",
    "css_style = \"\"\"\n",
    "<style>\n",
    "    h4{ font-family: Arial, sans-serif; }\n",
    "    .popup-table { font-family: Arial, sans-serif; border-collapse: collapse; width: 100%; }\n",
    "    .popup-table td, .popup-table th { border: 1px solid #ddd; padding: 8px; text-align: left; }\n",
    "    .popup-table tr:nth-child(even) { background-color: #f2f2f2; }\n",
    "    .popup-table tr:hover { background-color: #ddd; }\n",
    "    .popup-table th { padding-top: 12px; padding-bottom: 12px; background-color: #4CAF50; color: white; }\n",
    "</style>\n",
    "\"\"\"\n",
    "\n",
    "# Membuat peta untuk data latih\n",
    "map_latih = folium.Map(location=[5.22, 97.22], zoom_start=10)\n",
    "\n",
    "# Menambahkan marker untuk setiap wilayah data latih\n",
    "for wilayah in data_latih['Wilayah'].unique():\n",
    "    # Subset data untuk setiap wilayah\n",
    "    wilayah_data = data_latih[data_latih['Wilayah'] == wilayah]\n",
    "    \n",
    "    # Menghitung frekuensi dan persentase setiap status\n",
    "    status_counts = wilayah_data['Potensi_Banjir'].value_counts()\n",
    "    total_status = status_counts.sum()\n",
    "    status_percentages = (status_counts / total_status * 100).round(2)\n",
    "    \n",
    "    # Menentukan status potensi banjir yang paling sering muncul\n",
    "    status_terbanyak = status_counts.idxmax()\n",
    "    \n",
    "    # Menampilkan tabel dengan jumlah dan persentase dalam bentuk HTML yang bisa di-scroll\n",
    "    table_html = f\"\"\"\n",
    "    {css_style}\n",
    "    <table class=\"popup-table\">\n",
    "        <thead>\n",
    "            <tr>\n",
    "                <th>Status</th>\n",
    "                <th>Jumlah</th>\n",
    "                <th>Persentase (%)</th>\n",
    "            </tr>\n",
    "        </thead>\n",
    "        <tbody>\n",
    "    \"\"\"\n",
    "    \n",
    "    # Menambahkan baris untuk setiap status\n",
    "    for status, jumlah in status_counts.items():\n",
    "        persentase = status_percentages[status]\n",
    "        table_html += f\"\"\"\n",
    "        <tr>\n",
    "            <td>{status}</td>\n",
    "            <td>{jumlah}</td>\n",
    "            <td>{persentase}</td>\n",
    "        </tr>\n",
    "        \"\"\"\n",
    "    \n",
    "    table_html += \"</tbody></table>\"\n",
    "    \n",
    "    # Menambahkan marker dengan popup dan warna berdasarkan status terbanyak\n",
    "    iframe = folium.IFrame(html=table_html, width=500, height=300)\n",
    "    popup = folium.Popup(iframe, max_width=500)\n",
    "    folium.Marker(location=coordinates[wilayah], popup=popup, icon=folium.Icon(color=status_to_color[status_terbanyak])).add_to(map_latih)\n",
    "\n",
    "# Tampilkan peta latih\n",
    "map_latih.save(\"map_latih.html\")\n",
    "map_latih\n"
   ]
  },
  {
   "cell_type": "code",
   "execution_count": 43,
   "metadata": {},
   "outputs": [
    {
     "data": {
      "text/html": [
       "<div style=\"width:100%;\"><div style=\"position:relative;width:100%;height:0;padding-bottom:60%;\"><span style=\"color:#565656\">Make this Notebook Trusted to load map: File -> Trust Notebook</span><iframe srcdoc=\"&lt;!DOCTYPE html&gt;\n",
       "&lt;html&gt;\n",
       "&lt;head&gt;\n",
       "    \n",
       "    &lt;meta http-equiv=&quot;content-type&quot; content=&quot;text/html; charset=UTF-8&quot; /&gt;\n",
       "    \n",
       "        &lt;script&gt;\n",
       "            L_NO_TOUCH = false;\n",
       "            L_DISABLE_3D = false;\n",
       "        &lt;/script&gt;\n",
       "    \n",
       "    &lt;style&gt;html, body {width: 100%;height: 100%;margin: 0;padding: 0;}&lt;/style&gt;\n",
       "    &lt;style&gt;#map {position:absolute;top:0;bottom:0;right:0;left:0;}&lt;/style&gt;\n",
       "    &lt;script src=&quot;https://cdn.jsdelivr.net/npm/leaflet@1.9.3/dist/leaflet.js&quot;&gt;&lt;/script&gt;\n",
       "    &lt;script src=&quot;https://code.jquery.com/jquery-3.7.1.min.js&quot;&gt;&lt;/script&gt;\n",
       "    &lt;script src=&quot;https://cdn.jsdelivr.net/npm/bootstrap@5.2.2/dist/js/bootstrap.bundle.min.js&quot;&gt;&lt;/script&gt;\n",
       "    &lt;script src=&quot;https://cdnjs.cloudflare.com/ajax/libs/Leaflet.awesome-markers/2.0.2/leaflet.awesome-markers.js&quot;&gt;&lt;/script&gt;\n",
       "    &lt;link rel=&quot;stylesheet&quot; href=&quot;https://cdn.jsdelivr.net/npm/leaflet@1.9.3/dist/leaflet.css&quot;/&gt;\n",
       "    &lt;link rel=&quot;stylesheet&quot; href=&quot;https://cdn.jsdelivr.net/npm/bootstrap@5.2.2/dist/css/bootstrap.min.css&quot;/&gt;\n",
       "    &lt;link rel=&quot;stylesheet&quot; href=&quot;https://netdna.bootstrapcdn.com/bootstrap/3.0.0/css/bootstrap.min.css&quot;/&gt;\n",
       "    &lt;link rel=&quot;stylesheet&quot; href=&quot;https://cdn.jsdelivr.net/npm/@fortawesome/fontawesome-free@6.2.0/css/all.min.css&quot;/&gt;\n",
       "    &lt;link rel=&quot;stylesheet&quot; href=&quot;https://cdnjs.cloudflare.com/ajax/libs/Leaflet.awesome-markers/2.0.2/leaflet.awesome-markers.css&quot;/&gt;\n",
       "    &lt;link rel=&quot;stylesheet&quot; href=&quot;https://cdn.jsdelivr.net/gh/python-visualization/folium/folium/templates/leaflet.awesome.rotate.min.css&quot;/&gt;\n",
       "    \n",
       "            &lt;meta name=&quot;viewport&quot; content=&quot;width=device-width,\n",
       "                initial-scale=1.0, maximum-scale=1.0, user-scalable=no&quot; /&gt;\n",
       "            &lt;style&gt;\n",
       "                #map_d6569f0dcf079ad6b8674f0b2147aa8c {\n",
       "                    position: relative;\n",
       "                    width: 100.0%;\n",
       "                    height: 100.0%;\n",
       "                    left: 0.0%;\n",
       "                    top: 0.0%;\n",
       "                }\n",
       "                .leaflet-container { font-size: 1rem; }\n",
       "            &lt;/style&gt;\n",
       "        \n",
       "&lt;/head&gt;\n",
       "&lt;body&gt;\n",
       "    \n",
       "    \n",
       "            &lt;div class=&quot;folium-map&quot; id=&quot;map_d6569f0dcf079ad6b8674f0b2147aa8c&quot; &gt;&lt;/div&gt;\n",
       "        \n",
       "&lt;/body&gt;\n",
       "&lt;script&gt;\n",
       "    \n",
       "    \n",
       "            var map_d6569f0dcf079ad6b8674f0b2147aa8c = L.map(\n",
       "                &quot;map_d6569f0dcf079ad6b8674f0b2147aa8c&quot;,\n",
       "                {\n",
       "                    center: [5.22, 97.22],\n",
       "                    crs: L.CRS.EPSG3857,\n",
       "                    zoom: 10,\n",
       "                    zoomControl: true,\n",
       "                    preferCanvas: false,\n",
       "                }\n",
       "            );\n",
       "\n",
       "            \n",
       "\n",
       "        \n",
       "    \n",
       "            var tile_layer_919e65d335f9295768b00f1e3e43b478 = L.tileLayer(\n",
       "                &quot;https://tile.openstreetmap.org/{z}/{x}/{y}.png&quot;,\n",
       "                {&quot;attribution&quot;: &quot;\\u0026copy; \\u003ca href=\\&quot;https://www.openstreetmap.org/copyright\\&quot;\\u003eOpenStreetMap\\u003c/a\\u003e contributors&quot;, &quot;detectRetina&quot;: false, &quot;maxNativeZoom&quot;: 19, &quot;maxZoom&quot;: 19, &quot;minZoom&quot;: 0, &quot;noWrap&quot;: false, &quot;opacity&quot;: 1, &quot;subdomains&quot;: &quot;abc&quot;, &quot;tms&quot;: false}\n",
       "            );\n",
       "        \n",
       "    \n",
       "            tile_layer_919e65d335f9295768b00f1e3e43b478.addTo(map_d6569f0dcf079ad6b8674f0b2147aa8c);\n",
       "        \n",
       "    \n",
       "            var marker_e0b268ca6080fdaa26015d46a8f426c0 = L.marker(\n",
       "                [5.0621243, 97.3258354],\n",
       "                {}\n",
       "            ).addTo(map_d6569f0dcf079ad6b8674f0b2147aa8c);\n",
       "        \n",
       "    \n",
       "            var icon_b5ca8133e4b42d12bdb4afcffb2ae165 = L.AwesomeMarkers.icon(\n",
       "                {&quot;extraClasses&quot;: &quot;fa-rotate-0&quot;, &quot;icon&quot;: &quot;info-sign&quot;, &quot;iconColor&quot;: &quot;white&quot;, &quot;markerColor&quot;: &quot;beige&quot;, &quot;prefix&quot;: &quot;glyphicon&quot;}\n",
       "            );\n",
       "            marker_e0b268ca6080fdaa26015d46a8f426c0.setIcon(icon_b5ca8133e4b42d12bdb4afcffb2ae165);\n",
       "        \n",
       "    \n",
       "        var popup_ca42cc58e704081ead2b4457396a5710 = L.popup({&quot;maxWidth&quot;: 500});\n",
       "\n",
       "        \n",
       "            \n",
       "                var i_frame_008fde8de25dcda24c2dd4f23e0b9138 = $(`&lt;iframe src=&quot;data:text/html;charset=utf-8;base64,CiAgICAKICAgIAo8c3R5bGU+CiAgICAucG9wdXAtdGFibGUgeyBmb250LWZhbWlseTogQXJpYWwsIHNhbnMtc2VyaWY7IGJvcmRlci1jb2xsYXBzZTogY29sbGFwc2U7IHdpZHRoOiAxMDAlOyB9CiAgICAucG9wdXAtdGFibGUgdGQsIC5wb3B1cC10YWJsZSB0aCB7IGJvcmRlcjogMXB4IHNvbGlkICNkZGQ7IHBhZGRpbmc6IDhweDsgdGV4dC1hbGlnbjogbGVmdDsgfQogICAgLnBvcHVwLXRhYmxlIHRyOm50aC1jaGlsZChldmVuKSB7IGJhY2tncm91bmQtY29sb3I6ICNmMmYyZjI7IH0KICAgIC5wb3B1cC10YWJsZSB0cjpob3ZlciB7IGJhY2tncm91bmQtY29sb3I6ICNkZGQ7IH0KICAgIC5wb3B1cC10YWJsZSB0aCB7IHBhZGRpbmctdG9wOiAxMnB4OyBwYWRkaW5nLWJvdHRvbTogMTJweDsgYmFja2dyb3VuZC1jb2xvcjogIzRDQUY1MDsgY29sb3I6IHdoaXRlOyB9Cjwvc3R5bGU+CgogICAgPHRhYmxlIGNsYXNzPSJwb3B1cC10YWJsZSI+CiAgICAgICAgPHRoZWFkPgogICAgICAgICAgICA8dHI+CiAgICAgICAgICAgICAgICA8dGg+U3RhdHVzPC90aD4KICAgICAgICAgICAgICAgIDx0aD5KdW1sYWg8L3RoPgogICAgICAgICAgICAgICAgPHRoPlBlcnNlbnRhc2UgKCUpPC90aD4KICAgICAgICAgICAgPC90cj4KICAgICAgICA8L3RoZWFkPgogICAgICAgIDx0Ym9keT4KICAgIAogICAgICAgIDx0cj4KICAgICAgICAgICAgPHRkPlNpYWdhPC90ZD4KICAgICAgICAgICAgPHRkPjQ8L3RkPgogICAgICAgICAgICA8dGQ+MjYuNjc8L3RkPgogICAgICAgIDwvdHI+CiAgICAgICAgCiAgICAgICAgPHRyPgogICAgICAgICAgICA8dGQ+QXdhczwvdGQ+CiAgICAgICAgICAgIDx0ZD40PC90ZD4KICAgICAgICAgICAgPHRkPjI2LjY3PC90ZD4KICAgICAgICA8L3RyPgogICAgICAgIAogICAgICAgIDx0cj4KICAgICAgICAgICAgPHRkPkFtYW48L3RkPgogICAgICAgICAgICA8dGQ+NDwvdGQ+CiAgICAgICAgICAgIDx0ZD4yNi42NzwvdGQ+CiAgICAgICAgPC90cj4KICAgICAgICAKICAgICAgICA8dHI+CiAgICAgICAgICAgIDx0ZD5XYXNwYWRhPC90ZD4KICAgICAgICAgICAgPHRkPjM8L3RkPgogICAgICAgICAgICA8dGQ+MjAuMDwvdGQ+CiAgICAgICAgPC90cj4KICAgICAgICA8L3Rib2R5PjwvdGFibGU+&quot; width=&quot;500&quot; style=&quot;border:none !important;&quot; height=&quot;300&quot;&gt;&lt;/iframe&gt;`)[0];\n",
       "                popup_ca42cc58e704081ead2b4457396a5710.setContent(i_frame_008fde8de25dcda24c2dd4f23e0b9138);\n",
       "            \n",
       "        \n",
       "\n",
       "        marker_e0b268ca6080fdaa26015d46a8f426c0.bindPopup(popup_ca42cc58e704081ead2b4457396a5710)\n",
       "        ;\n",
       "\n",
       "        \n",
       "    \n",
       "    \n",
       "            var marker_a1bea00054577761110a1cb42e13c7ca = L.marker(\n",
       "                [4.9211586, 97.1261701],\n",
       "                {}\n",
       "            ).addTo(map_d6569f0dcf079ad6b8674f0b2147aa8c);\n",
       "        \n",
       "    \n",
       "            var icon_c44d0c14823fdf1d4948607911765546 = L.AwesomeMarkers.icon(\n",
       "                {&quot;extraClasses&quot;: &quot;fa-rotate-0&quot;, &quot;icon&quot;: &quot;info-sign&quot;, &quot;iconColor&quot;: &quot;white&quot;, &quot;markerColor&quot;: &quot;darkred&quot;, &quot;prefix&quot;: &quot;glyphicon&quot;}\n",
       "            );\n",
       "            marker_a1bea00054577761110a1cb42e13c7ca.setIcon(icon_c44d0c14823fdf1d4948607911765546);\n",
       "        \n",
       "    \n",
       "        var popup_d142ad947e104c191da16d78527707bf = L.popup({&quot;maxWidth&quot;: 500});\n",
       "\n",
       "        \n",
       "            \n",
       "                var i_frame_2c312c4d5975fa1241c2ecde2c192742 = $(`&lt;iframe src=&quot;data:text/html;charset=utf-8;base64,CiAgICAKICAgIAo8c3R5bGU+CiAgICAucG9wdXAtdGFibGUgeyBmb250LWZhbWlseTogQXJpYWwsIHNhbnMtc2VyaWY7IGJvcmRlci1jb2xsYXBzZTogY29sbGFwc2U7IHdpZHRoOiAxMDAlOyB9CiAgICAucG9wdXAtdGFibGUgdGQsIC5wb3B1cC10YWJsZSB0aCB7IGJvcmRlcjogMXB4IHNvbGlkICNkZGQ7IHBhZGRpbmc6IDhweDsgdGV4dC1hbGlnbjogbGVmdDsgfQogICAgLnBvcHVwLXRhYmxlIHRyOm50aC1jaGlsZChldmVuKSB7IGJhY2tncm91bmQtY29sb3I6ICNmMmYyZjI7IH0KICAgIC5wb3B1cC10YWJsZSB0cjpob3ZlciB7IGJhY2tncm91bmQtY29sb3I6ICNkZGQ7IH0KICAgIC5wb3B1cC10YWJsZSB0aCB7IHBhZGRpbmctdG9wOiAxMnB4OyBwYWRkaW5nLWJvdHRvbTogMTJweDsgYmFja2dyb3VuZC1jb2xvcjogIzRDQUY1MDsgY29sb3I6IHdoaXRlOyB9Cjwvc3R5bGU+CgogICAgPHRhYmxlIGNsYXNzPSJwb3B1cC10YWJsZSI+CiAgICAgICAgPHRoZWFkPgogICAgICAgICAgICA8dHI+CiAgICAgICAgICAgICAgICA8dGg+U3RhdHVzPC90aD4KICAgICAgICAgICAgICAgIDx0aD5KdW1sYWg8L3RoPgogICAgICAgICAgICAgICAgPHRoPlBlcnNlbnRhc2UgKCUpPC90aD4KICAgICAgICAgICAgPC90cj4KICAgICAgICA8L3RoZWFkPgogICAgICAgIDx0Ym9keT4KICAgIAogICAgICAgIDx0cj4KICAgICAgICAgICAgPHRkPkF3YXM8L3RkPgogICAgICAgICAgICA8dGQ+NTwvdGQ+CiAgICAgICAgICAgIDx0ZD40MS42NzwvdGQ+CiAgICAgICAgPC90cj4KICAgICAgICAKICAgICAgICA8dHI+CiAgICAgICAgICAgIDx0ZD5TaWFnYTwvdGQ+CiAgICAgICAgICAgIDx0ZD4zPC90ZD4KICAgICAgICAgICAgPHRkPjI1LjA8L3RkPgogICAgICAgIDwvdHI+CiAgICAgICAgCiAgICAgICAgPHRyPgogICAgICAgICAgICA8dGQ+QW1hbjwvdGQ+CiAgICAgICAgICAgIDx0ZD4yPC90ZD4KICAgICAgICAgICAgPHRkPjE2LjY3PC90ZD4KICAgICAgICA8L3RyPgogICAgICAgIAogICAgICAgIDx0cj4KICAgICAgICAgICAgPHRkPldhc3BhZGE8L3RkPgogICAgICAgICAgICA8dGQ+MjwvdGQ+CiAgICAgICAgICAgIDx0ZD4xNi42NzwvdGQ+CiAgICAgICAgPC90cj4KICAgICAgICA8L3Rib2R5PjwvdGFibGU+&quot; width=&quot;500&quot; style=&quot;border:none !important;&quot; height=&quot;300&quot;&gt;&lt;/iframe&gt;`)[0];\n",
       "                popup_d142ad947e104c191da16d78527707bf.setContent(i_frame_2c312c4d5975fa1241c2ecde2c192742);\n",
       "            \n",
       "        \n",
       "\n",
       "        marker_a1bea00054577761110a1cb42e13c7ca.bindPopup(popup_d142ad947e104c191da16d78527707bf)\n",
       "        ;\n",
       "\n",
       "        \n",
       "    \n",
       "    \n",
       "            var marker_093fcefe4e6fd7710b80a52eeb3a2539 = L.marker(\n",
       "                [5.0517222, 97.3078233],\n",
       "                {}\n",
       "            ).addTo(map_d6569f0dcf079ad6b8674f0b2147aa8c);\n",
       "        \n",
       "    \n",
       "            var icon_29d626119f332a6b847dd745690fc33d = L.AwesomeMarkers.icon(\n",
       "                {&quot;extraClasses&quot;: &quot;fa-rotate-0&quot;, &quot;icon&quot;: &quot;info-sign&quot;, &quot;iconColor&quot;: &quot;white&quot;, &quot;markerColor&quot;: &quot;orange&quot;, &quot;prefix&quot;: &quot;glyphicon&quot;}\n",
       "            );\n",
       "            marker_093fcefe4e6fd7710b80a52eeb3a2539.setIcon(icon_29d626119f332a6b847dd745690fc33d);\n",
       "        \n",
       "    \n",
       "        var popup_34756a411c080601593e261497db13d5 = L.popup({&quot;maxWidth&quot;: 500});\n",
       "\n",
       "        \n",
       "            \n",
       "                var i_frame_7372a4ba8b2644265a55b50a032670a3 = $(`&lt;iframe src=&quot;data:text/html;charset=utf-8;base64,CiAgICAKICAgIAo8c3R5bGU+CiAgICAucG9wdXAtdGFibGUgeyBmb250LWZhbWlseTogQXJpYWwsIHNhbnMtc2VyaWY7IGJvcmRlci1jb2xsYXBzZTogY29sbGFwc2U7IHdpZHRoOiAxMDAlOyB9CiAgICAucG9wdXAtdGFibGUgdGQsIC5wb3B1cC10YWJsZSB0aCB7IGJvcmRlcjogMXB4IHNvbGlkICNkZGQ7IHBhZGRpbmc6IDhweDsgdGV4dC1hbGlnbjogbGVmdDsgfQogICAgLnBvcHVwLXRhYmxlIHRyOm50aC1jaGlsZChldmVuKSB7IGJhY2tncm91bmQtY29sb3I6ICNmMmYyZjI7IH0KICAgIC5wb3B1cC10YWJsZSB0cjpob3ZlciB7IGJhY2tncm91bmQtY29sb3I6ICNkZGQ7IH0KICAgIC5wb3B1cC10YWJsZSB0aCB7IHBhZGRpbmctdG9wOiAxMnB4OyBwYWRkaW5nLWJvdHRvbTogMTJweDsgYmFja2dyb3VuZC1jb2xvcjogIzRDQUY1MDsgY29sb3I6IHdoaXRlOyB9Cjwvc3R5bGU+CgogICAgPHRhYmxlIGNsYXNzPSJwb3B1cC10YWJsZSI+CiAgICAgICAgPHRoZWFkPgogICAgICAgICAgICA8dHI+CiAgICAgICAgICAgICAgICA8dGg+U3RhdHVzPC90aD4KICAgICAgICAgICAgICAgIDx0aD5KdW1sYWg8L3RoPgogICAgICAgICAgICAgICAgPHRoPlBlcnNlbnRhc2UgKCUpPC90aD4KICAgICAgICAgICAgPC90cj4KICAgICAgICA8L3RoZWFkPgogICAgICAgIDx0Ym9keT4KICAgIAogICAgICAgIDx0cj4KICAgICAgICAgICAgPHRkPldhc3BhZGE8L3RkPgogICAgICAgICAgICA8dGQ+MzwvdGQ+CiAgICAgICAgICAgIDx0ZD4zMC4wPC90ZD4KICAgICAgICA8L3RyPgogICAgICAgIAogICAgICAgIDx0cj4KICAgICAgICAgICAgPHRkPkF3YXM8L3RkPgogICAgICAgICAgICA8dGQ+MzwvdGQ+CiAgICAgICAgICAgIDx0ZD4zMC4wPC90ZD4KICAgICAgICA8L3RyPgogICAgICAgIAogICAgICAgIDx0cj4KICAgICAgICAgICAgPHRkPlNpYWdhPC90ZD4KICAgICAgICAgICAgPHRkPjM8L3RkPgogICAgICAgICAgICA8dGQ+MzAuMDwvdGQ+CiAgICAgICAgPC90cj4KICAgICAgICAKICAgICAgICA8dHI+CiAgICAgICAgICAgIDx0ZD5BbWFuPC90ZD4KICAgICAgICAgICAgPHRkPjE8L3RkPgogICAgICAgICAgICA8dGQ+MTAuMDwvdGQ+CiAgICAgICAgPC90cj4KICAgICAgICA8L3Rib2R5PjwvdGFibGU+&quot; width=&quot;500&quot; style=&quot;border:none !important;&quot; height=&quot;300&quot;&gt;&lt;/iframe&gt;`)[0];\n",
       "                popup_34756a411c080601593e261497db13d5.setContent(i_frame_7372a4ba8b2644265a55b50a032670a3);\n",
       "            \n",
       "        \n",
       "\n",
       "        marker_093fcefe4e6fd7710b80a52eeb3a2539.bindPopup(popup_34756a411c080601593e261497db13d5)\n",
       "        ;\n",
       "\n",
       "        \n",
       "    \n",
       "    \n",
       "            var marker_46e24488c758a8bb90ea61a9fe66a664 = L.marker(\n",
       "                [4.8616275, 97.2673567],\n",
       "                {}\n",
       "            ).addTo(map_d6569f0dcf079ad6b8674f0b2147aa8c);\n",
       "        \n",
       "    \n",
       "            var icon_6f89f4584703caf285eab176138aa077 = L.AwesomeMarkers.icon(\n",
       "                {&quot;extraClasses&quot;: &quot;fa-rotate-0&quot;, &quot;icon&quot;: &quot;info-sign&quot;, &quot;iconColor&quot;: &quot;white&quot;, &quot;markerColor&quot;: &quot;darkred&quot;, &quot;prefix&quot;: &quot;glyphicon&quot;}\n",
       "            );\n",
       "            marker_46e24488c758a8bb90ea61a9fe66a664.setIcon(icon_6f89f4584703caf285eab176138aa077);\n",
       "        \n",
       "    \n",
       "        var popup_88bdeea6e51fa1d0863f90f43bbbb3ff = L.popup({&quot;maxWidth&quot;: 500});\n",
       "\n",
       "        \n",
       "            \n",
       "                var i_frame_f849054e067a4ac99945e3fe27c3864d = $(`&lt;iframe src=&quot;data:text/html;charset=utf-8;base64,CiAgICAKICAgIAo8c3R5bGU+CiAgICAucG9wdXAtdGFibGUgeyBmb250LWZhbWlseTogQXJpYWwsIHNhbnMtc2VyaWY7IGJvcmRlci1jb2xsYXBzZTogY29sbGFwc2U7IHdpZHRoOiAxMDAlOyB9CiAgICAucG9wdXAtdGFibGUgdGQsIC5wb3B1cC10YWJsZSB0aCB7IGJvcmRlcjogMXB4IHNvbGlkICNkZGQ7IHBhZGRpbmc6IDhweDsgdGV4dC1hbGlnbjogbGVmdDsgfQogICAgLnBvcHVwLXRhYmxlIHRyOm50aC1jaGlsZChldmVuKSB7IGJhY2tncm91bmQtY29sb3I6ICNmMmYyZjI7IH0KICAgIC5wb3B1cC10YWJsZSB0cjpob3ZlciB7IGJhY2tncm91bmQtY29sb3I6ICNkZGQ7IH0KICAgIC5wb3B1cC10YWJsZSB0aCB7IHBhZGRpbmctdG9wOiAxMnB4OyBwYWRkaW5nLWJvdHRvbTogMTJweDsgYmFja2dyb3VuZC1jb2xvcjogIzRDQUY1MDsgY29sb3I6IHdoaXRlOyB9Cjwvc3R5bGU+CgogICAgPHRhYmxlIGNsYXNzPSJwb3B1cC10YWJsZSI+CiAgICAgICAgPHRoZWFkPgogICAgICAgICAgICA8dHI+CiAgICAgICAgICAgICAgICA8dGg+U3RhdHVzPC90aD4KICAgICAgICAgICAgICAgIDx0aD5KdW1sYWg8L3RoPgogICAgICAgICAgICAgICAgPHRoPlBlcnNlbnRhc2UgKCUpPC90aD4KICAgICAgICAgICAgPC90cj4KICAgICAgICA8L3RoZWFkPgogICAgICAgIDx0Ym9keT4KICAgIAogICAgICAgIDx0cj4KICAgICAgICAgICAgPHRkPkF3YXM8L3RkPgogICAgICAgICAgICA8dGQ+NDwvdGQ+CiAgICAgICAgICAgIDx0ZD40MC4wPC90ZD4KICAgICAgICA8L3RyPgogICAgICAgIAogICAgICAgIDx0cj4KICAgICAgICAgICAgPHRkPkFtYW48L3RkPgogICAgICAgICAgICA8dGQ+MjwvdGQ+CiAgICAgICAgICAgIDx0ZD4yMC4wPC90ZD4KICAgICAgICA8L3RyPgogICAgICAgIAogICAgICAgIDx0cj4KICAgICAgICAgICAgPHRkPldhc3BhZGE8L3RkPgogICAgICAgICAgICA8dGQ+MjwvdGQ+CiAgICAgICAgICAgIDx0ZD4yMC4wPC90ZD4KICAgICAgICA8L3RyPgogICAgICAgIAogICAgICAgIDx0cj4KICAgICAgICAgICAgPHRkPlNpYWdhPC90ZD4KICAgICAgICAgICAgPHRkPjI8L3RkPgogICAgICAgICAgICA8dGQ+MjAuMDwvdGQ+CiAgICAgICAgPC90cj4KICAgICAgICA8L3Rib2R5PjwvdGFibGU+&quot; width=&quot;500&quot; style=&quot;border:none !important;&quot; height=&quot;300&quot;&gt;&lt;/iframe&gt;`)[0];\n",
       "                popup_88bdeea6e51fa1d0863f90f43bbbb3ff.setContent(i_frame_f849054e067a4ac99945e3fe27c3864d);\n",
       "            \n",
       "        \n",
       "\n",
       "        marker_46e24488c758a8bb90ea61a9fe66a664.bindPopup(popup_88bdeea6e51fa1d0863f90f43bbbb3ff)\n",
       "        ;\n",
       "\n",
       "        \n",
       "    \n",
       "    \n",
       "            var marker_3a80fbedd3a7923f314ca9003b95aea8 = L.marker(\n",
       "                [4.9826373, 97.0425453],\n",
       "                {}\n",
       "            ).addTo(map_d6569f0dcf079ad6b8674f0b2147aa8c);\n",
       "        \n",
       "    \n",
       "            var icon_35768acb6a7f84d60f6c6c06a47d12dd = L.AwesomeMarkers.icon(\n",
       "                {&quot;extraClasses&quot;: &quot;fa-rotate-0&quot;, &quot;icon&quot;: &quot;info-sign&quot;, &quot;iconColor&quot;: &quot;white&quot;, &quot;markerColor&quot;: &quot;darkred&quot;, &quot;prefix&quot;: &quot;glyphicon&quot;}\n",
       "            );\n",
       "            marker_3a80fbedd3a7923f314ca9003b95aea8.setIcon(icon_35768acb6a7f84d60f6c6c06a47d12dd);\n",
       "        \n",
       "    \n",
       "        var popup_a761fca60465001f9cfae16ab0e9f359 = L.popup({&quot;maxWidth&quot;: 500});\n",
       "\n",
       "        \n",
       "            \n",
       "                var i_frame_2aede29c012e21ada4a9b7a9261a24c1 = $(`&lt;iframe src=&quot;data:text/html;charset=utf-8;base64,CiAgICAKICAgIAo8c3R5bGU+CiAgICAucG9wdXAtdGFibGUgeyBmb250LWZhbWlseTogQXJpYWwsIHNhbnMtc2VyaWY7IGJvcmRlci1jb2xsYXBzZTogY29sbGFwc2U7IHdpZHRoOiAxMDAlOyB9CiAgICAucG9wdXAtdGFibGUgdGQsIC5wb3B1cC10YWJsZSB0aCB7IGJvcmRlcjogMXB4IHNvbGlkICNkZGQ7IHBhZGRpbmc6IDhweDsgdGV4dC1hbGlnbjogbGVmdDsgfQogICAgLnBvcHVwLXRhYmxlIHRyOm50aC1jaGlsZChldmVuKSB7IGJhY2tncm91bmQtY29sb3I6ICNmMmYyZjI7IH0KICAgIC5wb3B1cC10YWJsZSB0cjpob3ZlciB7IGJhY2tncm91bmQtY29sb3I6ICNkZGQ7IH0KICAgIC5wb3B1cC10YWJsZSB0aCB7IHBhZGRpbmctdG9wOiAxMnB4OyBwYWRkaW5nLWJvdHRvbTogMTJweDsgYmFja2dyb3VuZC1jb2xvcjogIzRDQUY1MDsgY29sb3I6IHdoaXRlOyB9Cjwvc3R5bGU+CgogICAgPHRhYmxlIGNsYXNzPSJwb3B1cC10YWJsZSI+CiAgICAgICAgPHRoZWFkPgogICAgICAgICAgICA8dHI+CiAgICAgICAgICAgICAgICA8dGg+U3RhdHVzPC90aD4KICAgICAgICAgICAgICAgIDx0aD5KdW1sYWg8L3RoPgogICAgICAgICAgICAgICAgPHRoPlBlcnNlbnRhc2UgKCUpPC90aD4KICAgICAgICAgICAgPC90cj4KICAgICAgICA8L3RoZWFkPgogICAgICAgIDx0Ym9keT4KICAgIAogICAgICAgIDx0cj4KICAgICAgICAgICAgPHRkPkF3YXM8L3RkPgogICAgICAgICAgICA8dGQ+NTwvdGQ+CiAgICAgICAgICAgIDx0ZD4zMy4zMzwvdGQ+CiAgICAgICAgPC90cj4KICAgICAgICAKICAgICAgICA8dHI+CiAgICAgICAgICAgIDx0ZD5BbWFuPC90ZD4KICAgICAgICAgICAgPHRkPjQ8L3RkPgogICAgICAgICAgICA8dGQ+MjYuNjc8L3RkPgogICAgICAgIDwvdHI+CiAgICAgICAgCiAgICAgICAgPHRyPgogICAgICAgICAgICA8dGQ+U2lhZ2E8L3RkPgogICAgICAgICAgICA8dGQ+MzwvdGQ+CiAgICAgICAgICAgIDx0ZD4yMC4wPC90ZD4KICAgICAgICA8L3RyPgogICAgICAgIAogICAgICAgIDx0cj4KICAgICAgICAgICAgPHRkPldhc3BhZGE8L3RkPgogICAgICAgICAgICA8dGQ+MzwvdGQ+CiAgICAgICAgICAgIDx0ZD4yMC4wPC90ZD4KICAgICAgICA8L3RyPgogICAgICAgIDwvdGJvZHk+PC90YWJsZT4=&quot; width=&quot;500&quot; style=&quot;border:none !important;&quot; height=&quot;300&quot;&gt;&lt;/iframe&gt;`)[0];\n",
       "                popup_a761fca60465001f9cfae16ab0e9f359.setContent(i_frame_2aede29c012e21ada4a9b7a9261a24c1);\n",
       "            \n",
       "        \n",
       "\n",
       "        marker_3a80fbedd3a7923f314ca9003b95aea8.bindPopup(popup_a761fca60465001f9cfae16ab0e9f359)\n",
       "        ;\n",
       "\n",
       "        \n",
       "    \n",
       "    \n",
       "            var marker_3f7de3d3d6413732ad24b821976a09c1 = L.marker(\n",
       "                [5.0306322, 97.2316173],\n",
       "                {}\n",
       "            ).addTo(map_d6569f0dcf079ad6b8674f0b2147aa8c);\n",
       "        \n",
       "    \n",
       "            var icon_bec246fd09ee673e3cb8678a959f9f8b = L.AwesomeMarkers.icon(\n",
       "                {&quot;extraClasses&quot;: &quot;fa-rotate-0&quot;, &quot;icon&quot;: &quot;info-sign&quot;, &quot;iconColor&quot;: &quot;white&quot;, &quot;markerColor&quot;: &quot;lightgreen&quot;, &quot;prefix&quot;: &quot;glyphicon&quot;}\n",
       "            );\n",
       "            marker_3f7de3d3d6413732ad24b821976a09c1.setIcon(icon_bec246fd09ee673e3cb8678a959f9f8b);\n",
       "        \n",
       "    \n",
       "        var popup_868820c5d05e27620e8484a577823c2e = L.popup({&quot;maxWidth&quot;: 500});\n",
       "\n",
       "        \n",
       "            \n",
       "                var i_frame_7f7ff0022916d7e93ba7f2161615136f = $(`&lt;iframe src=&quot;data:text/html;charset=utf-8;base64,CiAgICAKICAgIAo8c3R5bGU+CiAgICAucG9wdXAtdGFibGUgeyBmb250LWZhbWlseTogQXJpYWwsIHNhbnMtc2VyaWY7IGJvcmRlci1jb2xsYXBzZTogY29sbGFwc2U7IHdpZHRoOiAxMDAlOyB9CiAgICAucG9wdXAtdGFibGUgdGQsIC5wb3B1cC10YWJsZSB0aCB7IGJvcmRlcjogMXB4IHNvbGlkICNkZGQ7IHBhZGRpbmc6IDhweDsgdGV4dC1hbGlnbjogbGVmdDsgfQogICAgLnBvcHVwLXRhYmxlIHRyOm50aC1jaGlsZChldmVuKSB7IGJhY2tncm91bmQtY29sb3I6ICNmMmYyZjI7IH0KICAgIC5wb3B1cC10YWJsZSB0cjpob3ZlciB7IGJhY2tncm91bmQtY29sb3I6ICNkZGQ7IH0KICAgIC5wb3B1cC10YWJsZSB0aCB7IHBhZGRpbmctdG9wOiAxMnB4OyBwYWRkaW5nLWJvdHRvbTogMTJweDsgYmFja2dyb3VuZC1jb2xvcjogIzRDQUY1MDsgY29sb3I6IHdoaXRlOyB9Cjwvc3R5bGU+CgogICAgPHRhYmxlIGNsYXNzPSJwb3B1cC10YWJsZSI+CiAgICAgICAgPHRoZWFkPgogICAgICAgICAgICA8dHI+CiAgICAgICAgICAgICAgICA8dGg+U3RhdHVzPC90aD4KICAgICAgICAgICAgICAgIDx0aD5KdW1sYWg8L3RoPgogICAgICAgICAgICAgICAgPHRoPlBlcnNlbnRhc2UgKCUpPC90aD4KICAgICAgICAgICAgPC90cj4KICAgICAgICA8L3RoZWFkPgogICAgICAgIDx0Ym9keT4KICAgIAogICAgICAgIDx0cj4KICAgICAgICAgICAgPHRkPkFtYW48L3RkPgogICAgICAgICAgICA8dGQ+NTwvdGQ+CiAgICAgICAgICAgIDx0ZD4zOC40NjwvdGQ+CiAgICAgICAgPC90cj4KICAgICAgICAKICAgICAgICA8dHI+CiAgICAgICAgICAgIDx0ZD5XYXNwYWRhPC90ZD4KICAgICAgICAgICAgPHRkPjQ8L3RkPgogICAgICAgICAgICA8dGQ+MzAuNzc8L3RkPgogICAgICAgIDwvdHI+CiAgICAgICAgCiAgICAgICAgPHRyPgogICAgICAgICAgICA8dGQ+U2lhZ2E8L3RkPgogICAgICAgICAgICA8dGQ+MjwvdGQ+CiAgICAgICAgICAgIDx0ZD4xNS4zODwvdGQ+CiAgICAgICAgPC90cj4KICAgICAgICAKICAgICAgICA8dHI+CiAgICAgICAgICAgIDx0ZD5Bd2FzPC90ZD4KICAgICAgICAgICAgPHRkPjI8L3RkPgogICAgICAgICAgICA8dGQ+MTUuMzg8L3RkPgogICAgICAgIDwvdHI+CiAgICAgICAgPC90Ym9keT48L3RhYmxlPg==&quot; width=&quot;500&quot; style=&quot;border:none !important;&quot; height=&quot;300&quot;&gt;&lt;/iframe&gt;`)[0];\n",
       "                popup_868820c5d05e27620e8484a577823c2e.setContent(i_frame_7f7ff0022916d7e93ba7f2161615136f);\n",
       "            \n",
       "        \n",
       "\n",
       "        marker_3f7de3d3d6413732ad24b821976a09c1.bindPopup(popup_868820c5d05e27620e8484a577823c2e)\n",
       "        ;\n",
       "\n",
       "        \n",
       "    \n",
       "    \n",
       "            var marker_9576d83988f0804fccf18f74ed017668 = L.marker(\n",
       "                [5.228798, 96.9449662],\n",
       "                {}\n",
       "            ).addTo(map_d6569f0dcf079ad6b8674f0b2147aa8c);\n",
       "        \n",
       "    \n",
       "            var icon_2dd68cb2890a3906794db90c6849473b = L.AwesomeMarkers.icon(\n",
       "                {&quot;extraClasses&quot;: &quot;fa-rotate-0&quot;, &quot;icon&quot;: &quot;info-sign&quot;, &quot;iconColor&quot;: &quot;white&quot;, &quot;markerColor&quot;: &quot;darkred&quot;, &quot;prefix&quot;: &quot;glyphicon&quot;}\n",
       "            );\n",
       "            marker_9576d83988f0804fccf18f74ed017668.setIcon(icon_2dd68cb2890a3906794db90c6849473b);\n",
       "        \n",
       "    \n",
       "        var popup_47673d8d5ebaeb6b7a465703650a93b9 = L.popup({&quot;maxWidth&quot;: 500});\n",
       "\n",
       "        \n",
       "            \n",
       "                var i_frame_3d9692885ffdb6223633eccd398cf72d = $(`&lt;iframe src=&quot;data:text/html;charset=utf-8;base64,CiAgICAKICAgIAo8c3R5bGU+CiAgICAucG9wdXAtdGFibGUgeyBmb250LWZhbWlseTogQXJpYWwsIHNhbnMtc2VyaWY7IGJvcmRlci1jb2xsYXBzZTogY29sbGFwc2U7IHdpZHRoOiAxMDAlOyB9CiAgICAucG9wdXAtdGFibGUgdGQsIC5wb3B1cC10YWJsZSB0aCB7IGJvcmRlcjogMXB4IHNvbGlkICNkZGQ7IHBhZGRpbmc6IDhweDsgdGV4dC1hbGlnbjogbGVmdDsgfQogICAgLnBvcHVwLXRhYmxlIHRyOm50aC1jaGlsZChldmVuKSB7IGJhY2tncm91bmQtY29sb3I6ICNmMmYyZjI7IH0KICAgIC5wb3B1cC10YWJsZSB0cjpob3ZlciB7IGJhY2tncm91bmQtY29sb3I6ICNkZGQ7IH0KICAgIC5wb3B1cC10YWJsZSB0aCB7IHBhZGRpbmctdG9wOiAxMnB4OyBwYWRkaW5nLWJvdHRvbTogMTJweDsgYmFja2dyb3VuZC1jb2xvcjogIzRDQUY1MDsgY29sb3I6IHdoaXRlOyB9Cjwvc3R5bGU+CgogICAgPHRhYmxlIGNsYXNzPSJwb3B1cC10YWJsZSI+CiAgICAgICAgPHRoZWFkPgogICAgICAgICAgICA8dHI+CiAgICAgICAgICAgICAgICA8dGg+U3RhdHVzPC90aD4KICAgICAgICAgICAgICAgIDx0aD5KdW1sYWg8L3RoPgogICAgICAgICAgICAgICAgPHRoPlBlcnNlbnRhc2UgKCUpPC90aD4KICAgICAgICAgICAgPC90cj4KICAgICAgICA8L3RoZWFkPgogICAgICAgIDx0Ym9keT4KICAgIAogICAgICAgIDx0cj4KICAgICAgICAgICAgPHRkPkF3YXM8L3RkPgogICAgICAgICAgICA8dGQ+NDwvdGQ+CiAgICAgICAgICAgIDx0ZD40NC40NDwvdGQ+CiAgICAgICAgPC90cj4KICAgICAgICAKICAgICAgICA8dHI+CiAgICAgICAgICAgIDx0ZD5BbWFuPC90ZD4KICAgICAgICAgICAgPHRkPjI8L3RkPgogICAgICAgICAgICA8dGQ+MjIuMjI8L3RkPgogICAgICAgIDwvdHI+CiAgICAgICAgCiAgICAgICAgPHRyPgogICAgICAgICAgICA8dGQ+V2FzcGFkYTwvdGQ+CiAgICAgICAgICAgIDx0ZD4yPC90ZD4KICAgICAgICAgICAgPHRkPjIyLjIyPC90ZD4KICAgICAgICA8L3RyPgogICAgICAgIAogICAgICAgIDx0cj4KICAgICAgICAgICAgPHRkPlNpYWdhPC90ZD4KICAgICAgICAgICAgPHRkPjE8L3RkPgogICAgICAgICAgICA8dGQ+MTEuMTE8L3RkPgogICAgICAgIDwvdHI+CiAgICAgICAgPC90Ym9keT48L3RhYmxlPg==&quot; width=&quot;500&quot; style=&quot;border:none !important;&quot; height=&quot;300&quot;&gt;&lt;/iframe&gt;`)[0];\n",
       "                popup_47673d8d5ebaeb6b7a465703650a93b9.setContent(i_frame_3d9692885ffdb6223633eccd398cf72d);\n",
       "            \n",
       "        \n",
       "\n",
       "        marker_9576d83988f0804fccf18f74ed017668.bindPopup(popup_47673d8d5ebaeb6b7a465703650a93b9)\n",
       "        ;\n",
       "\n",
       "        \n",
       "    \n",
       "    \n",
       "            tile_layer_919e65d335f9295768b00f1e3e43b478.addTo(map_d6569f0dcf079ad6b8674f0b2147aa8c);\n",
       "        \n",
       "&lt;/script&gt;\n",
       "&lt;/html&gt;\" style=\"position:absolute;width:100%;height:100%;left:0;top:0;border:none !important;\" allowfullscreen webkitallowfullscreen mozallowfullscreen></iframe></div></div>"
      ],
      "text/plain": [
       "<folium.folium.Map at 0x1393e548c50>"
      ]
     },
     "execution_count": 43,
     "metadata": {},
     "output_type": "execute_result"
    }
   ],
   "source": [
    "# Filter data uji\n",
    "data_uji = data[data['Set'] == 'Uji']\n",
    "\n",
    "# Membuat peta untuk data uji\n",
    "map_uji = folium.Map(location=[5.22, 97.22], zoom_start=10)\n",
    "\n",
    "# Menambahkan marker untuk setiap wilayah data uji\n",
    "for wilayah in data_uji['Wilayah'].unique():\n",
    "    # Subset data untuk setiap wilayah\n",
    "    wilayah_data = data_uji[data_uji['Wilayah'] == wilayah]\n",
    "    \n",
    "    # Menghitung frekuensi dan persentase setiap status\n",
    "    status_counts = wilayah_data['Potensi_Banjir'].value_counts()\n",
    "    total_status = status_counts.sum()\n",
    "    status_percentages = (status_counts / total_status * 100).round(2)\n",
    "    \n",
    "    # Menentukan status potensi banjir yang paling sering muncul\n",
    "    status_terbanyak = status_counts.idxmax()\n",
    "    \n",
    "    # Menampilkan tabel dengan jumlah dan persentase dalam bentuk HTML yang bisa di-scroll\n",
    "    table_html = f\"\"\"\n",
    "    {css_style}\n",
    "    <table class=\"popup-table\">\n",
    "        <thead>\n",
    "            <tr>\n",
    "                <th>Status</th>\n",
    "                <th>Jumlah</th>\n",
    "                <th>Persentase (%)</th>\n",
    "            </tr>\n",
    "        </thead>\n",
    "        <tbody>\n",
    "    \"\"\"\n",
    "    \n",
    "    # Menambahkan baris untuk setiap status\n",
    "    for status, jumlah in status_counts.items():\n",
    "        persentase = status_percentages[status]\n",
    "        table_html += f\"\"\"\n",
    "        <tr>\n",
    "            <td>{status}</td>\n",
    "            <td>{jumlah}</td>\n",
    "            <td>{persentase}</td>\n",
    "        </tr>\n",
    "        \"\"\"\n",
    "    \n",
    "    table_html += \"</tbody></table>\"\n",
    "    \n",
    "    # Menambahkan marker dengan popup dan warna berdasarkan status terbanyak\n",
    "    iframe = folium.IFrame(html=table_html, width=500, height=300)\n",
    "    popup = folium.Popup(iframe, max_width=500)\n",
    "    folium.Marker(location=coordinates[wilayah], popup=popup, icon=folium.Icon(color=status_to_color[status_terbanyak])).add_to(map_uji)\n",
    "\n",
    "# Tampilkan peta uji\n",
    "map_uji.save(\"map_uji.html\")\n",
    "map_uji\n"
   ]
  },
  {
   "cell_type": "code",
   "execution_count": 45,
   "metadata": {},
   "outputs": [
    {
     "data": {
      "text/html": [
       "<div style=\"width:100%;\"><div style=\"position:relative;width:100%;height:0;padding-bottom:60%;\"><span style=\"color:#565656\">Make this Notebook Trusted to load map: File -> Trust Notebook</span><iframe srcdoc=\"&lt;!DOCTYPE html&gt;\n",
       "&lt;html&gt;\n",
       "&lt;head&gt;\n",
       "    \n",
       "    &lt;meta http-equiv=&quot;content-type&quot; content=&quot;text/html; charset=UTF-8&quot; /&gt;\n",
       "    \n",
       "        &lt;script&gt;\n",
       "            L_NO_TOUCH = false;\n",
       "            L_DISABLE_3D = false;\n",
       "        &lt;/script&gt;\n",
       "    \n",
       "    &lt;style&gt;html, body {width: 100%;height: 100%;margin: 0;padding: 0;}&lt;/style&gt;\n",
       "    &lt;style&gt;#map {position:absolute;top:0;bottom:0;right:0;left:0;}&lt;/style&gt;\n",
       "    &lt;script src=&quot;https://cdn.jsdelivr.net/npm/leaflet@1.9.3/dist/leaflet.js&quot;&gt;&lt;/script&gt;\n",
       "    &lt;script src=&quot;https://code.jquery.com/jquery-3.7.1.min.js&quot;&gt;&lt;/script&gt;\n",
       "    &lt;script src=&quot;https://cdn.jsdelivr.net/npm/bootstrap@5.2.2/dist/js/bootstrap.bundle.min.js&quot;&gt;&lt;/script&gt;\n",
       "    &lt;script src=&quot;https://cdnjs.cloudflare.com/ajax/libs/Leaflet.awesome-markers/2.0.2/leaflet.awesome-markers.js&quot;&gt;&lt;/script&gt;\n",
       "    &lt;link rel=&quot;stylesheet&quot; href=&quot;https://cdn.jsdelivr.net/npm/leaflet@1.9.3/dist/leaflet.css&quot;/&gt;\n",
       "    &lt;link rel=&quot;stylesheet&quot; href=&quot;https://cdn.jsdelivr.net/npm/bootstrap@5.2.2/dist/css/bootstrap.min.css&quot;/&gt;\n",
       "    &lt;link rel=&quot;stylesheet&quot; href=&quot;https://netdna.bootstrapcdn.com/bootstrap/3.0.0/css/bootstrap.min.css&quot;/&gt;\n",
       "    &lt;link rel=&quot;stylesheet&quot; href=&quot;https://cdn.jsdelivr.net/npm/@fortawesome/fontawesome-free@6.2.0/css/all.min.css&quot;/&gt;\n",
       "    &lt;link rel=&quot;stylesheet&quot; href=&quot;https://cdnjs.cloudflare.com/ajax/libs/Leaflet.awesome-markers/2.0.2/leaflet.awesome-markers.css&quot;/&gt;\n",
       "    &lt;link rel=&quot;stylesheet&quot; href=&quot;https://cdn.jsdelivr.net/gh/python-visualization/folium/folium/templates/leaflet.awesome.rotate.min.css&quot;/&gt;\n",
       "    \n",
       "            &lt;meta name=&quot;viewport&quot; content=&quot;width=device-width,\n",
       "                initial-scale=1.0, maximum-scale=1.0, user-scalable=no&quot; /&gt;\n",
       "            &lt;style&gt;\n",
       "                #map_9ad6f3b0ff00b62e5c51fb6d15d38b39 {\n",
       "                    position: relative;\n",
       "                    width: 100.0%;\n",
       "                    height: 100.0%;\n",
       "                    left: 0.0%;\n",
       "                    top: 0.0%;\n",
       "                }\n",
       "                .leaflet-container { font-size: 1rem; }\n",
       "            &lt;/style&gt;\n",
       "        \n",
       "&lt;/head&gt;\n",
       "&lt;body&gt;\n",
       "    \n",
       "    \n",
       "            &lt;div class=&quot;folium-map&quot; id=&quot;map_9ad6f3b0ff00b62e5c51fb6d15d38b39&quot; &gt;&lt;/div&gt;\n",
       "        \n",
       "&lt;/body&gt;\n",
       "&lt;script&gt;\n",
       "    \n",
       "    \n",
       "            var map_9ad6f3b0ff00b62e5c51fb6d15d38b39 = L.map(\n",
       "                &quot;map_9ad6f3b0ff00b62e5c51fb6d15d38b39&quot;,\n",
       "                {\n",
       "                    center: [5.22, 97.22],\n",
       "                    crs: L.CRS.EPSG3857,\n",
       "                    zoom: 10,\n",
       "                    zoomControl: true,\n",
       "                    preferCanvas: false,\n",
       "                }\n",
       "            );\n",
       "\n",
       "            \n",
       "\n",
       "        \n",
       "    \n",
       "            var tile_layer_368a37f47fc7db2e484892f340cd04c6 = L.tileLayer(\n",
       "                &quot;https://tile.openstreetmap.org/{z}/{x}/{y}.png&quot;,\n",
       "                {&quot;attribution&quot;: &quot;\\u0026copy; \\u003ca href=\\&quot;https://www.openstreetmap.org/copyright\\&quot;\\u003eOpenStreetMap\\u003c/a\\u003e contributors&quot;, &quot;detectRetina&quot;: false, &quot;maxNativeZoom&quot;: 19, &quot;maxZoom&quot;: 19, &quot;minZoom&quot;: 0, &quot;noWrap&quot;: false, &quot;opacity&quot;: 1, &quot;subdomains&quot;: &quot;abc&quot;, &quot;tms&quot;: false}\n",
       "            );\n",
       "        \n",
       "    \n",
       "            tile_layer_368a37f47fc7db2e484892f340cd04c6.addTo(map_9ad6f3b0ff00b62e5c51fb6d15d38b39);\n",
       "        \n",
       "    \n",
       "            var marker_e441073f1e43b7c237d9eadded29bf58 = L.marker(\n",
       "                [5.0621243, 97.3258354],\n",
       "                {}\n",
       "            ).addTo(map_9ad6f3b0ff00b62e5c51fb6d15d38b39);\n",
       "        \n",
       "    \n",
       "            var icon_ce78f52f6bfad9284dd21307d2e3826a = L.AwesomeMarkers.icon(\n",
       "                {&quot;extraClasses&quot;: &quot;fa-rotate-0&quot;, &quot;icon&quot;: &quot;info-sign&quot;, &quot;iconColor&quot;: &quot;white&quot;, &quot;markerColor&quot;: &quot;darkred&quot;, &quot;prefix&quot;: &quot;glyphicon&quot;}\n",
       "            );\n",
       "            marker_e441073f1e43b7c237d9eadded29bf58.setIcon(icon_ce78f52f6bfad9284dd21307d2e3826a);\n",
       "        \n",
       "    \n",
       "        var popup_c5e69c0c84f61abc1f0fcad352490a82 = L.popup({&quot;maxWidth&quot;: 500});\n",
       "\n",
       "        \n",
       "            \n",
       "                var i_frame_c8758d4c561688e41317b4df4d21e842 = $(`&lt;iframe src=&quot;data:text/html;charset=utf-8;base64,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&quot; width=&quot;500&quot; style=&quot;border:none !important;&quot; height=&quot;400&quot;&gt;&lt;/iframe&gt;`)[0];\n",
       "                popup_c5e69c0c84f61abc1f0fcad352490a82.setContent(i_frame_c8758d4c561688e41317b4df4d21e842);\n",
       "            \n",
       "        \n",
       "\n",
       "        marker_e441073f1e43b7c237d9eadded29bf58.bindPopup(popup_c5e69c0c84f61abc1f0fcad352490a82)\n",
       "        ;\n",
       "\n",
       "        \n",
       "    \n",
       "    \n",
       "            var marker_8b00b2cec172fd4014abdb2c74c7a02e = L.marker(\n",
       "                [4.9211586, 97.1261701],\n",
       "                {}\n",
       "            ).addTo(map_9ad6f3b0ff00b62e5c51fb6d15d38b39);\n",
       "        \n",
       "    \n",
       "            var icon_4ba159d99bb77b01c3648f0f6b994535 = L.AwesomeMarkers.icon(\n",
       "                {&quot;extraClasses&quot;: &quot;fa-rotate-0&quot;, &quot;icon&quot;: &quot;info-sign&quot;, &quot;iconColor&quot;: &quot;white&quot;, &quot;markerColor&quot;: &quot;darkred&quot;, &quot;prefix&quot;: &quot;glyphicon&quot;}\n",
       "            );\n",
       "            marker_8b00b2cec172fd4014abdb2c74c7a02e.setIcon(icon_4ba159d99bb77b01c3648f0f6b994535);\n",
       "        \n",
       "    \n",
       "        var popup_6aefecdc19966549f542dce09386d427 = L.popup({&quot;maxWidth&quot;: 500});\n",
       "\n",
       "        \n",
       "            \n",
       "                var i_frame_512de18c28ca928472164d5b943c9926 = $(`&lt;iframe src=&quot;data:text/html;charset=utf-8;base64,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&quot; width=&quot;500&quot; style=&quot;border:none !important;&quot; height=&quot;400&quot;&gt;&lt;/iframe&gt;`)[0];\n",
       "                popup_6aefecdc19966549f542dce09386d427.setContent(i_frame_512de18c28ca928472164d5b943c9926);\n",
       "            \n",
       "        \n",
       "\n",
       "        marker_8b00b2cec172fd4014abdb2c74c7a02e.bindPopup(popup_6aefecdc19966549f542dce09386d427)\n",
       "        ;\n",
       "\n",
       "        \n",
       "    \n",
       "    \n",
       "            var marker_0e5a887ad29a8713df1d5360a5f7e773 = L.marker(\n",
       "                [5.0517222, 97.3078233],\n",
       "                {}\n",
       "            ).addTo(map_9ad6f3b0ff00b62e5c51fb6d15d38b39);\n",
       "        \n",
       "    \n",
       "            var icon_9b5fb6cf2cf98839f4fb95e7bf02631a = L.AwesomeMarkers.icon(\n",
       "                {&quot;extraClasses&quot;: &quot;fa-rotate-0&quot;, &quot;icon&quot;: &quot;info-sign&quot;, &quot;iconColor&quot;: &quot;white&quot;, &quot;markerColor&quot;: &quot;darkred&quot;, &quot;prefix&quot;: &quot;glyphicon&quot;}\n",
       "            );\n",
       "            marker_0e5a887ad29a8713df1d5360a5f7e773.setIcon(icon_9b5fb6cf2cf98839f4fb95e7bf02631a);\n",
       "        \n",
       "    \n",
       "        var popup_dc3d6e6ba2eaccb19449538c091a1731 = L.popup({&quot;maxWidth&quot;: 500});\n",
       "\n",
       "        \n",
       "            \n",
       "                var i_frame_c430cf2af06199378098daeac89ab837 = $(`&lt;iframe src=&quot;data:text/html;charset=utf-8;base64,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&quot; width=&quot;500&quot; style=&quot;border:none !important;&quot; height=&quot;400&quot;&gt;&lt;/iframe&gt;`)[0];\n",
       "                popup_dc3d6e6ba2eaccb19449538c091a1731.setContent(i_frame_c430cf2af06199378098daeac89ab837);\n",
       "            \n",
       "        \n",
       "\n",
       "        marker_0e5a887ad29a8713df1d5360a5f7e773.bindPopup(popup_dc3d6e6ba2eaccb19449538c091a1731)\n",
       "        ;\n",
       "\n",
       "        \n",
       "    \n",
       "    \n",
       "            var marker_f2497b8fdbcf5591a99163e61d3ea001 = L.marker(\n",
       "                [4.8616275, 97.2673567],\n",
       "                {}\n",
       "            ).addTo(map_9ad6f3b0ff00b62e5c51fb6d15d38b39);\n",
       "        \n",
       "    \n",
       "            var icon_26965c8ea53008d01a2869fc0fad9c74 = L.AwesomeMarkers.icon(\n",
       "                {&quot;extraClasses&quot;: &quot;fa-rotate-0&quot;, &quot;icon&quot;: &quot;info-sign&quot;, &quot;iconColor&quot;: &quot;white&quot;, &quot;markerColor&quot;: &quot;darkred&quot;, &quot;prefix&quot;: &quot;glyphicon&quot;}\n",
       "            );\n",
       "            marker_f2497b8fdbcf5591a99163e61d3ea001.setIcon(icon_26965c8ea53008d01a2869fc0fad9c74);\n",
       "        \n",
       "    \n",
       "        var popup_7d4e04f5e760489f37ccaff0287fd2bc = L.popup({&quot;maxWidth&quot;: 500});\n",
       "\n",
       "        \n",
       "            \n",
       "                var i_frame_9749d5dd9aa7bd3405481c2815ae6927 = $(`&lt;iframe src=&quot;data:text/html;charset=utf-8;base64,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&quot; width=&quot;500&quot; style=&quot;border:none !important;&quot; height=&quot;400&quot;&gt;&lt;/iframe&gt;`)[0];\n",
       "                popup_7d4e04f5e760489f37ccaff0287fd2bc.setContent(i_frame_9749d5dd9aa7bd3405481c2815ae6927);\n",
       "            \n",
       "        \n",
       "\n",
       "        marker_f2497b8fdbcf5591a99163e61d3ea001.bindPopup(popup_7d4e04f5e760489f37ccaff0287fd2bc)\n",
       "        ;\n",
       "\n",
       "        \n",
       "    \n",
       "    \n",
       "            var marker_83baf9a01dce48f316c8ddfcd03de1a4 = L.marker(\n",
       "                [4.9826373, 97.0425453],\n",
       "                {}\n",
       "            ).addTo(map_9ad6f3b0ff00b62e5c51fb6d15d38b39);\n",
       "        \n",
       "    \n",
       "            var icon_645050c5e41196df41021fedfcbfe1dc = L.AwesomeMarkers.icon(\n",
       "                {&quot;extraClasses&quot;: &quot;fa-rotate-0&quot;, &quot;icon&quot;: &quot;info-sign&quot;, &quot;iconColor&quot;: &quot;white&quot;, &quot;markerColor&quot;: &quot;darkred&quot;, &quot;prefix&quot;: &quot;glyphicon&quot;}\n",
       "            );\n",
       "            marker_83baf9a01dce48f316c8ddfcd03de1a4.setIcon(icon_645050c5e41196df41021fedfcbfe1dc);\n",
       "        \n",
       "    \n",
       "        var popup_0c9494d509cc0d33ff33590878c9cf2d = L.popup({&quot;maxWidth&quot;: 500});\n",
       "\n",
       "        \n",
       "            \n",
       "                var i_frame_bf57df7262e44d748db1a3596415fd7a = $(`&lt;iframe src=&quot;data:text/html;charset=utf-8;base64,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&quot; width=&quot;500&quot; style=&quot;border:none !important;&quot; height=&quot;400&quot;&gt;&lt;/iframe&gt;`)[0];\n",
       "                popup_0c9494d509cc0d33ff33590878c9cf2d.setContent(i_frame_bf57df7262e44d748db1a3596415fd7a);\n",
       "            \n",
       "        \n",
       "\n",
       "        marker_83baf9a01dce48f316c8ddfcd03de1a4.bindPopup(popup_0c9494d509cc0d33ff33590878c9cf2d)\n",
       "        ;\n",
       "\n",
       "        \n",
       "    \n",
       "    \n",
       "            var marker_1842005b2247b322bc0328840be1e0aa = L.marker(\n",
       "                [5.0306322, 97.2316173],\n",
       "                {}\n",
       "            ).addTo(map_9ad6f3b0ff00b62e5c51fb6d15d38b39);\n",
       "        \n",
       "    \n",
       "            var icon_bb917fe694590519ab82de74efc37e4c = L.AwesomeMarkers.icon(\n",
       "                {&quot;extraClasses&quot;: &quot;fa-rotate-0&quot;, &quot;icon&quot;: &quot;info-sign&quot;, &quot;iconColor&quot;: &quot;white&quot;, &quot;markerColor&quot;: &quot;darkred&quot;, &quot;prefix&quot;: &quot;glyphicon&quot;}\n",
       "            );\n",
       "            marker_1842005b2247b322bc0328840be1e0aa.setIcon(icon_bb917fe694590519ab82de74efc37e4c);\n",
       "        \n",
       "    \n",
       "        var popup_1535f4a7cde5b3410f15967dc60fbbb4 = L.popup({&quot;maxWidth&quot;: 500});\n",
       "\n",
       "        \n",
       "            \n",
       "                var i_frame_6c42dbfa4aeb9ec294064530c5ffe3a5 = $(`&lt;iframe src=&quot;data:text/html;charset=utf-8;base64,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&quot; width=&quot;500&quot; style=&quot;border:none !important;&quot; height=&quot;400&quot;&gt;&lt;/iframe&gt;`)[0];\n",
       "                popup_1535f4a7cde5b3410f15967dc60fbbb4.setContent(i_frame_6c42dbfa4aeb9ec294064530c5ffe3a5);\n",
       "            \n",
       "        \n",
       "\n",
       "        marker_1842005b2247b322bc0328840be1e0aa.bindPopup(popup_1535f4a7cde5b3410f15967dc60fbbb4)\n",
       "        ;\n",
       "\n",
       "        \n",
       "    \n",
       "    \n",
       "            var marker_4d8a97061ead60e8ea518ed5a1c6ab92 = L.marker(\n",
       "                [5.228798, 96.9449662],\n",
       "                {}\n",
       "            ).addTo(map_9ad6f3b0ff00b62e5c51fb6d15d38b39);\n",
       "        \n",
       "    \n",
       "            var icon_02e5df5b9dc102135406f30f2cd99e56 = L.AwesomeMarkers.icon(\n",
       "                {&quot;extraClasses&quot;: &quot;fa-rotate-0&quot;, &quot;icon&quot;: &quot;info-sign&quot;, &quot;iconColor&quot;: &quot;white&quot;, &quot;markerColor&quot;: &quot;darkred&quot;, &quot;prefix&quot;: &quot;glyphicon&quot;}\n",
       "            );\n",
       "            marker_4d8a97061ead60e8ea518ed5a1c6ab92.setIcon(icon_02e5df5b9dc102135406f30f2cd99e56);\n",
       "        \n",
       "    \n",
       "        var popup_89f4d264646f93f0d32baca66de1c0b1 = L.popup({&quot;maxWidth&quot;: 500});\n",
       "\n",
       "        \n",
       "            \n",
       "                var i_frame_bdf3e970a569bbfdbc41a37a9a3584a2 = $(`&lt;iframe src=&quot;data:text/html;charset=utf-8;base64,CiAgICAKICAgIAo8c3R5bGU+CiAgICAucG9wdXAtdGFibGUgeyBmb250LWZhbWlseTogQXJpYWwsIHNhbnMtc2VyaWY7IGJvcmRlci1jb2xsYXBzZTogY29sbGFwc2U7IHdpZHRoOiAxMDAlOyB9CiAgICAucG9wdXAtdGFibGUgdGQsIC5wb3B1cC10YWJsZSB0aCB7IGJvcmRlcjogMXB4IHNvbGlkICNkZGQ7IHBhZGRpbmc6IDhweDsgdGV4dC1hbGlnbjogbGVmdDsgfQogICAgLnBvcHVwLXRhYmxlIHRyOm50aC1jaGlsZChldmVuKSB7IGJhY2tncm91bmQtY29sb3I6ICNmMmYyZjI7IH0KICAgIC5wb3B1cC10YWJsZSB0cjpob3ZlciB7IGJhY2tncm91bmQtY29sb3I6ICNkZGQ7IH0KICAgIC5wb3B1cC10YWJsZSB0aCB7IHBhZGRpbmctdG9wOiAxMnB4OyBwYWRkaW5nLWJvdHRvbTogMTJweDsgYmFja2dyb3VuZC1jb2xvcjogIzRDQUY1MDsgY29sb3I6IHdoaXRlOyB9Cjwvc3R5bGU+CgoKICAgIDxoND5IYXNpbCBQcmVkaWtzaTwvaDQ+CiAgICA8dGFibGUgY2xhc3M9InBvcHVwLXRhYmxlIj4KICAgICAgICA8dGhlYWQ+CiAgICAgICAgICAgIDx0cj4KICAgICAgICAgICAgICAgIDx0aD5LZXRlcmFuZ2FuPC90aD4KICAgICAgICAgICAgICAgIDx0aD5OaWxhaTwvdGg+CiAgICAgICAgICAgIDwvdHI+CiAgICAgICAgPC90aGVhZD4KICAgICAgICA8dGJvZHk+CiAgICAgICAgICAgIDx0cj4KICAgICAgICAgICAgICAgIDx0ZD5OYW1hIFdpbGF5YWg8L3RkPgogICAgICAgICAgICAgICAgPHRkPlN0YW1ldCBBY2VoIFV0YXJhPC90ZD4KICAgICAgICAgICAgPC90cj4KICAgICAgICAgICAgPHRyPgogICAgICAgICAgICAgICAgPHRkPktvb3JkaW5hdDwvdGQ+CiAgICAgICAgICAgICAgICA8dGQ+NS4yMjg3OTgsIDk2Ljk0NDk2NjI8L3RkPgogICAgICAgICAgICA8L3RyPgogICAgICAgICAgICA8dHI+CiAgICAgICAgICAgICAgICA8dGQ+U3RhdHVzIFRlcmtpbmk8L3RkPgogICAgICAgICAgICAgICAgPHRkPkF3YXM8L3RkPgogICAgICAgICAgICA8L3RyPgogICAgICAgIDwvdGJvZHk+CiAgICA8L3RhYmxlPgogICAgPGJyPgogICAgCjxzdHlsZT4KICAgIC5wb3B1cC10YWJsZSB7IGZvbnQtZmFtaWx5OiBBcmlhbCwgc2Fucy1zZXJpZjsgYm9yZGVyLWNvbGxhcHNlOiBjb2xsYXBzZTsgd2lkdGg6IDEwMCU7IH0KICAgIC5wb3B1cC10YWJsZSB0ZCwgLnBvcHVwLXRhYmxlIHRoIHsgYm9yZGVyOiAxcHggc29saWQgI2RkZDsgcGFkZGluZzogOHB4OyB0ZXh0LWFsaWduOiBsZWZ0OyB9CiAgICAucG9wdXAtdGFibGUgdHI6bnRoLWNoaWxkKGV2ZW4pIHsgYmFja2dyb3VuZC1jb2xvcjogI2YyZjJmMjsgfQogICAgLnBvcHVwLXRhYmxlIHRyOmhvdmVyIHsgYmFja2dyb3VuZC1jb2xvcjogI2RkZDsgfQogICAgLnBvcHVwLXRhYmxlIHRoIHsgcGFkZGluZy10b3A6IDEycHg7IHBhZGRpbmctYm90dG9tOiAxMnB4OyBiYWNrZ3JvdW5kLWNvbG9yOiAjNENBRjUwOyBjb2xvcjogd2hpdGU7IH0KPC9zdHlsZT4KCiAgICAKICAgIDxoND5IaXN0b3JpcyBCYW5qaXI8L2g0PgogICAgPHRhYmxlIGNsYXNzPSJwb3B1cC10YWJsZSI+CiAgICAgICAgPHRoZWFkPgogICAgICAgICAgICA8dHI+CiAgICAgICAgICAgICAgICA8dGg+QnVsYW48L3RoPgogICAgICAgICAgICAgICAgPHRoPlRhaHVuPC90aD4KICAgICAgICAgICAgICAgIDx0aD5TdGF0dXMgUG90ZW5zaSBCYW5qaXI8L3RoPgogICAgICAgICAgICA8L3RyPgogICAgICAgIDwvdGhlYWQ+CiAgICAgICAgPHRib2R5PgogICAgCiAgICAgICAgPHRyPgogICAgICAgICAgICA8dGQ+QXVnPC90ZD4KICAgICAgICAgICAgPHRkPjIwMTg8L3RkPgogICAgICAgICAgICA8dGQ+QW1hbjwvdGQ+CiAgICAgICAgPC90cj4KICAgICAgICAKICAgICAgICA8dHI+CiAgICAgICAgICAgIDx0ZD5Ob3Y8L3RkPgogICAgICAgICAgICA8dGQ+MjAxODwvdGQ+CiAgICAgICAgICAgIDx0ZD5Bd2FzPC90ZD4KICAgICAgICA8L3RyPgogICAgICAgIAogICAgICAgIDx0cj4KICAgICAgICAgICAgPHRkPkphbjwvdGQ+CiAgICAgICAgICAgIDx0ZD4yMDE5PC90ZD4KICAgICAgICAgICAgPHRkPlNpYWdhPC90ZD4KICAgICAgICA8L3RyPgogICAgICAgIAogICAgICAgIDx0cj4KICAgICAgICAgICAgPHRkPk1hcjwvdGQ+CiAgICAgICAgICAgIDx0ZD4yMDE5PC90ZD4KICAgICAgICAgICAgPHRkPldhc3BhZGE8L3RkPgogICAgICAgIDwvdHI+CiAgICAgICAgCiAgICAgICAgPHRyPgogICAgICAgICAgICA8dGQ+SnVsPC90ZD4KICAgICAgICAgICAgPHRkPjIwMTk8L3RkPgogICAgICAgICAgICA8dGQ+V2FzcGFkYTwvdGQ+CiAgICAgICAgPC90cj4KICAgICAgICAKICAgICAgICA8dHI+CiAgICAgICAgICAgIDx0ZD5NYXI8L3RkPgogICAgICAgICAgICA8dGQ+MjAyMTwvdGQ+CiAgICAgICAgICAgIDx0ZD5BbWFuPC90ZD4KICAgICAgICA8L3RyPgogICAgICAgIAogICAgICAgIDx0cj4KICAgICAgICAgICAgPHRkPk1hcjwvdGQ+CiAgICAgICAgICAgIDx0ZD4yMDIyPC90ZD4KICAgICAgICAgICAgPHRkPkF3YXM8L3RkPgogICAgICAgIDwvdHI+CiAgICAgICAgCiAgICAgICAgPHRyPgogICAgICAgICAgICA8dGQ+TWF5PC90ZD4KICAgICAgICAgICAgPHRkPjIwMjI8L3RkPgogICAgICAgICAgICA8dGQ+QXdhczwvdGQ+CiAgICAgICAgPC90cj4KICAgICAgICAKICAgICAgICA8dHI+CiAgICAgICAgICAgIDx0ZD5Ob3Y8L3RkPgogICAgICAgICAgICA8dGQ+MjAyMjwvdGQ+CiAgICAgICAgICAgIDx0ZD5Bd2FzPC90ZD4KICAgICAgICA8L3RyPgogICAgICAgIDwvdGJvZHk+PC90YWJsZT48YnI+CiAgICAKPHN0eWxlPgogICAgLnBvcHVwLXRhYmxlIHsgZm9udC1mYW1pbHk6IEFyaWFsLCBzYW5zLXNlcmlmOyBib3JkZXItY29sbGFwc2U6IGNvbGxhcHNlOyB3aWR0aDogMTAwJTsgfQogICAgLnBvcHVwLXRhYmxlIHRkLCAucG9wdXAtdGFibGUgdGggeyBib3JkZXI6IDFweCBzb2xpZCAjZGRkOyBwYWRkaW5nOiA4cHg7IHRleHQtYWxpZ246IGxlZnQ7IH0KICAgIC5wb3B1cC10YWJsZSB0cjpudGgtY2hpbGQoZXZlbikgeyBiYWNrZ3JvdW5kLWNvbG9yOiAjZjJmMmYyOyB9CiAgICAucG9wdXAtdGFibGUgdHI6aG92ZXIgeyBiYWNrZ3JvdW5kLWNvbG9yOiAjZGRkOyB9CiAgICAucG9wdXAtdGFibGUgdGggeyBwYWRkaW5nLXRvcDogMTJweDsgcGFkZGluZy1ib3R0b206IDEycHg7IGJhY2tncm91bmQtY29sb3I6ICM0Q0FGNTA7IGNvbG9yOiB3aGl0ZTsgfQo8L3N0eWxlPgoKICAgIDxoND5GcmVrdWVuc2kgU3RhdHVzIEtlcmF3YW5hbjwvaDQ+CiAgICA8dGFibGUgY2xhc3M9InBvcHVwLXRhYmxlIj4KICAgICAgICA8dGhlYWQ+CiAgICAgICAgICAgIDx0cj4KICAgICAgICAgICAgICAgIDx0aD5TdGF0dXM8L3RoPgogICAgICAgICAgICAgICAgPHRoPkp1bWxhaDwvdGg+CiAgICAgICAgICAgICAgICA8dGg+UGVyc2VudGFzZSAoJSk8L3RoPgogICAgICAgICAgICA8L3RyPgogICAgICAgIDwvdGhlYWQ+CiAgICAgICAgPHRib2R5PgogICAgCiAgICAgICAgPHRyPgogICAgICAgICAgICA8dGQ+QXdhczwvdGQ+CiAgICAgICAgICAgIDx0ZD40PC90ZD4KICAgICAgICAgICAgPHRkPjQ0LjQ0PC90ZD4KICAgICAgICA8L3RyPgogICAgICAgIAogICAgICAgIDx0cj4KICAgICAgICAgICAgPHRkPkFtYW48L3RkPgogICAgICAgICAgICA8dGQ+MjwvdGQ+CiAgICAgICAgICAgIDx0ZD4yMi4yMjwvdGQ+CiAgICAgICAgPC90cj4KICAgICAgICAKICAgICAgICA8dHI+CiAgICAgICAgICAgIDx0ZD5XYXNwYWRhPC90ZD4KICAgICAgICAgICAgPHRkPjI8L3RkPgogICAgICAgICAgICA8dGQ+MjIuMjI8L3RkPgogICAgICAgIDwvdHI+CiAgICAgICAgCiAgICAgICAgPHRyPgogICAgICAgICAgICA8dGQ+U2lhZ2E8L3RkPgogICAgICAgICAgICA8dGQ+MTwvdGQ+CiAgICAgICAgICAgIDx0ZD4xMS4xMTwvdGQ+CiAgICAgICAgPC90cj4KICAgICAgICA8L3Rib2R5PjwvdGFibGU+&quot; width=&quot;500&quot; style=&quot;border:none !important;&quot; height=&quot;400&quot;&gt;&lt;/iframe&gt;`)[0];\n",
       "                popup_89f4d264646f93f0d32baca66de1c0b1.setContent(i_frame_bdf3e970a569bbfdbc41a37a9a3584a2);\n",
       "            \n",
       "        \n",
       "\n",
       "        marker_4d8a97061ead60e8ea518ed5a1c6ab92.bindPopup(popup_89f4d264646f93f0d32baca66de1c0b1)\n",
       "        ;\n",
       "\n",
       "        \n",
       "    \n",
       "    \n",
       "            tile_layer_368a37f47fc7db2e484892f340cd04c6.addTo(map_9ad6f3b0ff00b62e5c51fb6d15d38b39);\n",
       "        \n",
       "&lt;/script&gt;\n",
       "&lt;/html&gt;\" style=\"position:absolute;width:100%;height:100%;left:0;top:0;border:none !important;\" allowfullscreen webkitallowfullscreen mozallowfullscreen></iframe></div></div>"
      ],
      "text/plain": [
       "<folium.folium.Map at 0x1393ea528d0>"
      ]
     },
     "execution_count": 45,
     "metadata": {},
     "output_type": "execute_result"
    }
   ],
   "source": [
    "# Filter data uji\n",
    "data_uji = data[data['Set'] == 'Uji']\n",
    "\n",
    "# Membuat peta untuk data uji\n",
    "map_uji = folium.Map(location=[5.22, 97.22], zoom_start=10)\n",
    "\n",
    "# Menambahkan marker untuk setiap wilayah data uji\n",
    "for wilayah in data_uji['Wilayah'].unique():\n",
    "    # Subset data untuk setiap wilayah\n",
    "    wilayah_data = data_uji[data_uji['Wilayah'] == wilayah]\n",
    "    \n",
    "    # Menghitung frekuensi dan persentase setiap status\n",
    "    status_counts = wilayah_data['Potensi_Banjir'].value_counts()\n",
    "    total_status = status_counts.sum()\n",
    "    status_percentages = (status_counts / total_status * 100).round(2)\n",
    "    \n",
    "    # Mendapatkan prediksi terbaru (paling baru)\n",
    "    prediksi_terbaru = wilayah_data.sort_values(by='Tahun', ascending=False).iloc[0]['Potensi_Banjir']\n",
    "    \n",
    "    # Koordinat wilayah\n",
    "    latitude, longitude = coordinates[wilayah]\n",
    "    \n",
    "    # Tabel Keterangan Wilayah dan Status Terkini\n",
    "    table_keterangan_html = f\"\"\"\n",
    "    {css_style}\n",
    "\n",
    "    <h4>Hasil Prediksi</h4>\n",
    "    <table class=\"popup-table\">\n",
    "        <thead>\n",
    "            <tr>\n",
    "                <th>Keterangan</th>\n",
    "                <th>Nilai</th>\n",
    "            </tr>\n",
    "        </thead>\n",
    "        <tbody>\n",
    "            <tr>\n",
    "                <td>Nama Wilayah</td>\n",
    "                <td>{wilayah}</td>\n",
    "            </tr>\n",
    "            <tr>\n",
    "                <td>Koordinat</td>\n",
    "                <td>{latitude}, {longitude}</td>\n",
    "            </tr>\n",
    "            <tr>\n",
    "                <td>Status Terkini</td>\n",
    "                <td>{prediksi_terbaru}</td>\n",
    "            </tr>\n",
    "        </tbody>\n",
    "    </table>\n",
    "    \"\"\"\n",
    "    \n",
    "    # Tabel Historis\n",
    "    table_historis_html = f\"\"\"\n",
    "    {css_style}\n",
    "    \n",
    "    <h4>Historis Banjir</h4>\n",
    "    <table class=\"popup-table\">\n",
    "        <thead>\n",
    "            <tr>\n",
    "                <th>Bulan</th>\n",
    "                <th>Tahun</th>\n",
    "                <th>Status Potensi Banjir</th>\n",
    "            </tr>\n",
    "        </thead>\n",
    "        <tbody>\n",
    "    \"\"\"\n",
    "    \n",
    "    # Menambahkan baris untuk setiap tahun dan status historis\n",
    "    for _, row in wilayah_data.iterrows():\n",
    "        table_historis_html += f\"\"\"\n",
    "        <tr>\n",
    "            <td>{row['Bulan']}</td>\n",
    "            <td>{row['Tahun']}</td>\n",
    "            <td>{row['Potensi_Banjir']}</td>\n",
    "        </tr>\n",
    "        \"\"\"\n",
    "    \n",
    "    table_historis_html += \"</tbody></table>\"\n",
    "    \n",
    "    # Tabel Persentase Status Historis\n",
    "    table_persentase_html = f\"\"\"\n",
    "    {css_style}\n",
    "    <h4>Frekuensi Status Kerawanan</h4>\n",
    "    <table class=\"popup-table\">\n",
    "        <thead>\n",
    "            <tr>\n",
    "                <th>Status</th>\n",
    "                <th>Jumlah</th>\n",
    "                <th>Persentase (%)</th>\n",
    "            </tr>\n",
    "        </thead>\n",
    "        <tbody>\n",
    "    \"\"\"\n",
    "    \n",
    "    # Menambahkan baris untuk setiap status historis\n",
    "    for status, jumlah in status_counts.items():\n",
    "        persentase = status_percentages[status]\n",
    "        table_persentase_html += f\"\"\"\n",
    "        <tr>\n",
    "            <td>{status}</td>\n",
    "            <td>{jumlah}</td>\n",
    "            <td>{persentase}</td>\n",
    "        </tr>\n",
    "        \"\"\"\n",
    "    \n",
    "    table_persentase_html += \"</tbody></table>\"\n",
    "    \n",
    "    # Gabungkan ketiga tabel\n",
    "    full_popup_html = f\"{table_keterangan_html}<br>{table_historis_html}<br>{table_persentase_html}\"\n",
    "    \n",
    "    # Menambahkan marker dengan popup dan warna berdasarkan prediksi terbaru\n",
    "    iframe = folium.IFrame(html=full_popup_html, width=500, height=400)\n",
    "    popup = folium.Popup(iframe, max_width=500)\n",
    "    \n",
    "    # Tentukan warna pin berdasarkan prediksi terbaru\n",
    "    folium.Marker(location=[latitude, longitude], popup=popup, icon=folium.Icon(color=status_to_color[prediksi_terbaru])).add_to(map_uji)\n",
    "\n",
    "# Tampilkan peta uji\n",
    "map_uji.save(\"map_uji.html\")\n",
    "map_uji\n"
   ]
  }
 ],
 "metadata": {
  "kernelspec": {
   "display_name": "base",
   "language": "python",
   "name": "python3"
  },
  "language_info": {
   "codemirror_mode": {
    "name": "ipython",
    "version": 3
   },
   "file_extension": ".py",
   "mimetype": "text/x-python",
   "name": "python",
   "nbconvert_exporter": "python",
   "pygments_lexer": "ipython3",
   "version": "3.11.7"
  }
 },
 "nbformat": 4,
 "nbformat_minor": 2
}
